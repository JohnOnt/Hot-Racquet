{
 "cells": [
  {
   "cell_type": "code",
   "execution_count": 69,
   "metadata": {},
   "outputs": [],
   "source": [
    "import pandas as pd\n",
    "import numpy as np\n",
    "import matplotlib.pyplot as plt\n",
    "import scipy.stats as stats\n",
    "from tqdm import tqdm"
   ]
  },
  {
   "cell_type": "markdown",
   "metadata": {},
   "source": [
    "# Dataset description\n",
    "Each tournament has two datasets associated with it, one is named *year*-*tourney name*-matches.csv, which holds the metadata for the matches between players.\n",
    "The other dataset is named *year*-*tourney name*-points.csv, which holds the point-by-point data of the matches.\n",
    "In this EDA we will be looking at the 2018 US Open dataset:"
   ]
  },
  {
   "cell_type": "code",
   "execution_count": 2,
   "metadata": {},
   "outputs": [],
   "source": [
    "us18_matches = pd.read_csv('tennis_data/2018-usopen-matches.csv')\n",
    "us18_matches = us18_matches.dropna(axis=1, how='all')\n",
    "\n",
    "us18_points = pd.read_csv('tennis_data/2018-usopen-points.csv')\n",
    "us18_points = us18_points.dropna(axis=1, how='all')"
   ]
  },
  {
   "cell_type": "code",
   "execution_count": 3,
   "metadata": {},
   "outputs": [
    {
     "name": "stdout",
     "output_type": "stream",
     "text": [
      "Index(['match_id', 'ElapsedTime', 'SetNo', 'P1GamesWon', 'P2GamesWon',\n",
      "       'SetWinner', 'GameNo', 'GameWinner', 'PointNumber', 'PointWinner',\n",
      "       'PointServer', 'Speed_KMH', 'P1Score', 'P2Score', 'P1Momentum',\n",
      "       'P2Momentum', 'P1PointsWon', 'P2PointsWon', 'P1Ace', 'P2Ace',\n",
      "       'P1Winner', 'P2Winner', 'P1DoubleFault', 'P2DoubleFault', 'P1UnfErr',\n",
      "       'P2UnfErr', 'P1NetPoint', 'P2NetPoint', 'P1NetPointWon',\n",
      "       'P2NetPointWon', 'P1BreakPoint', 'P2BreakPoint', 'P1BreakPointWon',\n",
      "       'P2BreakPointWon', 'History', 'Speed_MPH', 'P1BreakPointMissed',\n",
      "       'P2BreakPointMissed', 'ServeIndicator', 'ServeNumber', 'WinnerType',\n",
      "       'WinnerShotType', 'P1DistanceRun', 'P2DistanceRun', 'RallyCount',\n",
      "       'ServeWidth', 'ServeDepth', 'ReturnDepth'],\n",
      "      dtype='object')\n"
     ]
    },
    {
     "data": {
      "text/html": "<div>\n<style scoped>\n    .dataframe tbody tr th:only-of-type {\n        vertical-align: middle;\n    }\n\n    .dataframe tbody tr th {\n        vertical-align: top;\n    }\n\n    .dataframe thead th {\n        text-align: right;\n    }\n</style>\n<table border=\"1\" class=\"dataframe\">\n  <thead>\n    <tr style=\"text-align: right;\">\n      <th></th>\n      <th>match_id</th>\n      <th>ElapsedTime</th>\n      <th>SetNo</th>\n      <th>P1GamesWon</th>\n      <th>P2GamesWon</th>\n      <th>SetWinner</th>\n      <th>GameNo</th>\n      <th>GameWinner</th>\n      <th>PointNumber</th>\n      <th>PointWinner</th>\n      <th>...</th>\n      <th>ServeIndicator</th>\n      <th>ServeNumber</th>\n      <th>WinnerType</th>\n      <th>WinnerShotType</th>\n      <th>P1DistanceRun</th>\n      <th>P2DistanceRun</th>\n      <th>RallyCount</th>\n      <th>ServeWidth</th>\n      <th>ServeDepth</th>\n      <th>ReturnDepth</th>\n    </tr>\n  </thead>\n  <tbody>\n    <tr>\n      <th>0</th>\n      <td>2018-usopen-1101</td>\n      <td>0:00:00</td>\n      <td>1</td>\n      <td>0</td>\n      <td>0</td>\n      <td>0</td>\n      <td>1</td>\n      <td>0</td>\n      <td>0X</td>\n      <td>0</td>\n      <td>...</td>\n      <td>0</td>\n      <td>0</td>\n      <td>0</td>\n      <td>0</td>\n      <td>0.000</td>\n      <td>0.000</td>\n      <td>0</td>\n      <td>NaN</td>\n      <td>NaN</td>\n      <td>NaN</td>\n    </tr>\n    <tr>\n      <th>1</th>\n      <td>2018-usopen-1101</td>\n      <td>0:00:00</td>\n      <td>1</td>\n      <td>0</td>\n      <td>0</td>\n      <td>0</td>\n      <td>1</td>\n      <td>0</td>\n      <td>0Y</td>\n      <td>0</td>\n      <td>...</td>\n      <td>0</td>\n      <td>0</td>\n      <td>0</td>\n      <td>0</td>\n      <td>0.000</td>\n      <td>0.000</td>\n      <td>0</td>\n      <td>NaN</td>\n      <td>NaN</td>\n      <td>NaN</td>\n    </tr>\n    <tr>\n      <th>2</th>\n      <td>2018-usopen-1101</td>\n      <td>0:00:00</td>\n      <td>1</td>\n      <td>0</td>\n      <td>0</td>\n      <td>0</td>\n      <td>1</td>\n      <td>0</td>\n      <td>1</td>\n      <td>1</td>\n      <td>...</td>\n      <td>2</td>\n      <td>1</td>\n      <td>0</td>\n      <td>0</td>\n      <td>5.951</td>\n      <td>2.944</td>\n      <td>2</td>\n      <td>W</td>\n      <td>CTL</td>\n      <td>NaN</td>\n    </tr>\n    <tr>\n      <th>3</th>\n      <td>2018-usopen-1101</td>\n      <td>0:00:19</td>\n      <td>1</td>\n      <td>0</td>\n      <td>0</td>\n      <td>0</td>\n      <td>1</td>\n      <td>0</td>\n      <td>2</td>\n      <td>2</td>\n      <td>...</td>\n      <td>2</td>\n      <td>1</td>\n      <td>0</td>\n      <td>0</td>\n      <td>2.875</td>\n      <td>2.285</td>\n      <td>1</td>\n      <td>NaN</td>\n      <td>NaN</td>\n      <td>ND</td>\n    </tr>\n    <tr>\n      <th>4</th>\n      <td>2018-usopen-1101</td>\n      <td>0:00:37</td>\n      <td>1</td>\n      <td>0</td>\n      <td>0</td>\n      <td>0</td>\n      <td>1</td>\n      <td>0</td>\n      <td>3</td>\n      <td>2</td>\n      <td>...</td>\n      <td>2</td>\n      <td>2</td>\n      <td>0</td>\n      <td>0</td>\n      <td>3.886</td>\n      <td>3.986</td>\n      <td>1</td>\n      <td>BW</td>\n      <td>NCTL</td>\n      <td>D</td>\n    </tr>\n  </tbody>\n</table>\n<p>5 rows × 48 columns</p>\n</div>",
      "text/plain": "           match_id ElapsedTime  SetNo  P1GamesWon  P2GamesWon  SetWinner  \\\n0  2018-usopen-1101     0:00:00      1           0           0          0   \n1  2018-usopen-1101     0:00:00      1           0           0          0   \n2  2018-usopen-1101     0:00:00      1           0           0          0   \n3  2018-usopen-1101     0:00:19      1           0           0          0   \n4  2018-usopen-1101     0:00:37      1           0           0          0   \n\n   GameNo  GameWinner PointNumber  PointWinner  ...  ServeIndicator  \\\n0       1           0          0X            0  ...               0   \n1       1           0          0Y            0  ...               0   \n2       1           0           1            1  ...               2   \n3       1           0           2            2  ...               2   \n4       1           0           3            2  ...               2   \n\n   ServeNumber WinnerType WinnerShotType  P1DistanceRun  P2DistanceRun  \\\n0            0          0              0          0.000          0.000   \n1            0          0              0          0.000          0.000   \n2            1          0              0          5.951          2.944   \n3            1          0              0          2.875          2.285   \n4            2          0              0          3.886          3.986   \n\n   RallyCount  ServeWidth  ServeDepth  ReturnDepth  \n0           0         NaN         NaN          NaN  \n1           0         NaN         NaN          NaN  \n2           2           W         CTL          NaN  \n3           1         NaN         NaN           ND  \n4           1          BW        NCTL            D  \n\n[5 rows x 48 columns]"
     },
     "execution_count": 3,
     "metadata": {},
     "output_type": "execute_result"
    }
   ],
   "source": [
    "print(us18_points.columns)\n",
    "us18_points.head()"
   ]
  },
  {
   "cell_type": "code",
   "execution_count": 4,
   "metadata": {},
   "outputs": [
    {
     "data": {
      "text/plain": "array([0, 1])"
     },
     "execution_count": 4,
     "metadata": {},
     "output_type": "execute_result"
    }
   ],
   "source": [
    "us18_points.P1DoubleFault.unique()"
   ]
  },
  {
   "cell_type": "markdown",
   "metadata": {},
   "source": [
    "### ServeWidth\n",
    "\n",
    "B: Body\n",
    "BC: Body/Center\n",
    "BW: Body/Wide\n",
    "C: Center [\"down the T\"]\n",
    "W: Wide\n",
    "\n",
    "### ServeDepth\n",
    "\n",
    "CTL: Close To Line\n",
    "NCTL: Not Close To Line\n",
    "\n",
    "### ReturnDepth\n",
    "\n",
    "D: Deep\n",
    "ND: Not Deep\n",
    "\n",
    "### ServeIndicator\n",
    "\n",
    "1: 1st serve\n",
    "2: 2nd servea"
   ]
  },
  {
   "cell_type": "code",
   "execution_count": 6,
   "metadata": {},
   "outputs": [
    {
     "name": "stdout",
     "output_type": "stream",
     "text": [
      "1528848\n",
      "178\n"
     ]
    }
   ],
   "source": [
    "print(np.size(us18_points))\n",
    "print(np.size(us18_points['match_id'].unique()))"
   ]
  },
  {
   "cell_type": "code",
   "execution_count": 7,
   "metadata": {},
   "outputs": [
    {
     "data": {
      "text/html": "<div>\n<style scoped>\n    .dataframe tbody tr th:only-of-type {\n        vertical-align: middle;\n    }\n\n    .dataframe tbody tr th {\n        vertical-align: top;\n    }\n\n    .dataframe thead th {\n        text-align: right;\n    }\n</style>\n<table border=\"1\" class=\"dataframe\">\n  <thead>\n    <tr style=\"text-align: right;\">\n      <th></th>\n      <th>match_id</th>\n      <th>year</th>\n      <th>slam</th>\n      <th>match_num</th>\n      <th>player1</th>\n      <th>player2</th>\n    </tr>\n  </thead>\n  <tbody>\n    <tr>\n      <th>3</th>\n      <td>2018-usopen-1109</td>\n      <td>2018</td>\n      <td>usopen</td>\n      <td>1109</td>\n      <td>Dominic Thiem</td>\n      <td>Mirza Basic</td>\n    </tr>\n    <tr>\n      <th>31</th>\n      <td>2018-usopen-1205</td>\n      <td>2018</td>\n      <td>usopen</td>\n      <td>1205</td>\n      <td>Dominic Thiem</td>\n      <td>Steve Johnson</td>\n    </tr>\n    <tr>\n      <th>57</th>\n      <td>2018-usopen-1303</td>\n      <td>2018</td>\n      <td>usopen</td>\n      <td>1303</td>\n      <td>Dominic Thiem</td>\n      <td>Taylor Fritz</td>\n    </tr>\n    <tr>\n      <th>72</th>\n      <td>2018-usopen-1402</td>\n      <td>2018</td>\n      <td>usopen</td>\n      <td>1402</td>\n      <td>Dominic Thiem</td>\n      <td>Kevin Anderson</td>\n    </tr>\n    <tr>\n      <th>79</th>\n      <td>2018-usopen-1501</td>\n      <td>2018</td>\n      <td>usopen</td>\n      <td>1501</td>\n      <td>Rafael Nadal</td>\n      <td>Dominic Thiem</td>\n    </tr>\n  </tbody>\n</table>\n</div>",
      "text/plain": "            match_id  year    slam  match_num        player1         player2\n3   2018-usopen-1109  2018  usopen       1109  Dominic Thiem     Mirza Basic\n31  2018-usopen-1205  2018  usopen       1205  Dominic Thiem   Steve Johnson\n57  2018-usopen-1303  2018  usopen       1303  Dominic Thiem    Taylor Fritz\n72  2018-usopen-1402  2018  usopen       1402  Dominic Thiem  Kevin Anderson\n79  2018-usopen-1501  2018  usopen       1501   Rafael Nadal   Dominic Thiem"
     },
     "execution_count": 7,
     "metadata": {},
     "output_type": "execute_result"
    }
   ],
   "source": [
    "name = 'Dominic Thiem'\n",
    "us18_matches[(us18_matches.player1 == name) | (us18_matches.player2 == name)]"
   ]
  },
  {
   "cell_type": "markdown",
   "metadata": {},
   "source": [
    "# Comments on data\n",
    "Our sample size of matches isn't terribly large, but considering we have each point made in four grand slams a year from 2011 to present, there is a substantial amount of data to go through!\n",
    "\n",
    "# Preliminary player Stat aggregation\n"
   ]
  },
  {
   "cell_type": "code",
   "execution_count": 6,
   "metadata": {},
   "outputs": [
    {
     "data": {
      "text/html": "<div>\n<style scoped>\n    .dataframe tbody tr th:only-of-type {\n        vertical-align: middle;\n    }\n\n    .dataframe tbody tr th {\n        vertical-align: top;\n    }\n\n    .dataframe thead th {\n        text-align: right;\n    }\n</style>\n<table border=\"1\" class=\"dataframe\">\n  <thead>\n    <tr style=\"text-align: right;\">\n      <th></th>\n      <th>match_id</th>\n      <th>ElapsedTime</th>\n      <th>SetNo</th>\n      <th>P1GamesWon</th>\n      <th>P2GamesWon</th>\n      <th>SetWinner</th>\n      <th>GameNo</th>\n      <th>GameWinner</th>\n      <th>PointNumber</th>\n      <th>PointWinner</th>\n      <th>...</th>\n      <th>ServeIndicator</th>\n      <th>ServeNumber</th>\n      <th>WinnerType</th>\n      <th>WinnerShotType</th>\n      <th>P1DistanceRun</th>\n      <th>P2DistanceRun</th>\n      <th>RallyCount</th>\n      <th>ServeWidth</th>\n      <th>ServeDepth</th>\n      <th>ReturnDepth</th>\n    </tr>\n  </thead>\n  <tbody>\n    <tr>\n      <th>0</th>\n      <td>2018-usopen-1101</td>\n      <td>0:00:00</td>\n      <td>1</td>\n      <td>0</td>\n      <td>0</td>\n      <td>0</td>\n      <td>1</td>\n      <td>0</td>\n      <td>0X</td>\n      <td>0</td>\n      <td>...</td>\n      <td>0</td>\n      <td>0</td>\n      <td>0</td>\n      <td>0</td>\n      <td>0.000</td>\n      <td>0.000</td>\n      <td>0</td>\n      <td>NaN</td>\n      <td>NaN</td>\n      <td>NaN</td>\n    </tr>\n    <tr>\n      <th>1</th>\n      <td>2018-usopen-1101</td>\n      <td>0:00:00</td>\n      <td>1</td>\n      <td>0</td>\n      <td>0</td>\n      <td>0</td>\n      <td>1</td>\n      <td>0</td>\n      <td>0Y</td>\n      <td>0</td>\n      <td>...</td>\n      <td>0</td>\n      <td>0</td>\n      <td>0</td>\n      <td>0</td>\n      <td>0.000</td>\n      <td>0.000</td>\n      <td>0</td>\n      <td>NaN</td>\n      <td>NaN</td>\n      <td>NaN</td>\n    </tr>\n    <tr>\n      <th>2</th>\n      <td>2018-usopen-1101</td>\n      <td>0:00:00</td>\n      <td>1</td>\n      <td>0</td>\n      <td>0</td>\n      <td>0</td>\n      <td>1</td>\n      <td>0</td>\n      <td>1</td>\n      <td>1</td>\n      <td>...</td>\n      <td>2</td>\n      <td>1</td>\n      <td>0</td>\n      <td>0</td>\n      <td>5.951</td>\n      <td>2.944</td>\n      <td>2</td>\n      <td>W</td>\n      <td>CTL</td>\n      <td>NaN</td>\n    </tr>\n    <tr>\n      <th>3</th>\n      <td>2018-usopen-1101</td>\n      <td>0:00:19</td>\n      <td>1</td>\n      <td>0</td>\n      <td>0</td>\n      <td>0</td>\n      <td>1</td>\n      <td>0</td>\n      <td>2</td>\n      <td>2</td>\n      <td>...</td>\n      <td>2</td>\n      <td>1</td>\n      <td>0</td>\n      <td>0</td>\n      <td>2.875</td>\n      <td>2.285</td>\n      <td>1</td>\n      <td>NaN</td>\n      <td>NaN</td>\n      <td>ND</td>\n    </tr>\n    <tr>\n      <th>4</th>\n      <td>2018-usopen-1101</td>\n      <td>0:00:37</td>\n      <td>1</td>\n      <td>0</td>\n      <td>0</td>\n      <td>0</td>\n      <td>1</td>\n      <td>0</td>\n      <td>3</td>\n      <td>2</td>\n      <td>...</td>\n      <td>2</td>\n      <td>2</td>\n      <td>0</td>\n      <td>0</td>\n      <td>3.886</td>\n      <td>3.986</td>\n      <td>1</td>\n      <td>BW</td>\n      <td>NCTL</td>\n      <td>D</td>\n    </tr>\n  </tbody>\n</table>\n<p>5 rows × 48 columns</p>\n</div>",
      "text/plain": "           match_id ElapsedTime  SetNo  P1GamesWon  P2GamesWon  SetWinner  \\\n0  2018-usopen-1101     0:00:00      1           0           0          0   \n1  2018-usopen-1101     0:00:00      1           0           0          0   \n2  2018-usopen-1101     0:00:00      1           0           0          0   \n3  2018-usopen-1101     0:00:19      1           0           0          0   \n4  2018-usopen-1101     0:00:37      1           0           0          0   \n\n   GameNo  GameWinner PointNumber  PointWinner  ...  ServeIndicator  \\\n0       1           0          0X            0  ...               0   \n1       1           0          0Y            0  ...               0   \n2       1           0           1            1  ...               2   \n3       1           0           2            2  ...               2   \n4       1           0           3            2  ...               2   \n\n   ServeNumber WinnerType WinnerShotType  P1DistanceRun  P2DistanceRun  \\\n0            0          0              0          0.000          0.000   \n1            0          0              0          0.000          0.000   \n2            1          0              0          5.951          2.944   \n3            1          0              0          2.875          2.285   \n4            2          0              0          3.886          3.986   \n\n   RallyCount  ServeWidth  ServeDepth  ReturnDepth  \n0           0         NaN         NaN          NaN  \n1           0         NaN         NaN          NaN  \n2           2           W         CTL          NaN  \n3           1         NaN         NaN           ND  \n4           1          BW        NCTL            D  \n\n[5 rows x 48 columns]"
     },
     "execution_count": 6,
     "metadata": {},
     "output_type": "execute_result"
    }
   ],
   "source": [
    "# Get all player names from a tourney\n",
    "\n",
    "def get_player_names(matches):\n",
    "    return np.unique(np.append(matches.player1.values, matches.player2.values))\n",
    "\n",
    "# Given a player name and tourney, get their matches\n",
    "def get_player_points(player, matches, points):\n",
    "    # Get all match numbers\n",
    "    match_ids1 = matches[(matches['player1'] == player)].match_id\n",
    "    match_ids2 = matches[(matches['player2'] == player)].match_id\n",
    "\n",
    "    player_points1 = points[points.match_id.isin(match_ids1)]\n",
    "    player_points2 = points[points.match_id.isin(match_ids2)]\n",
    "\n",
    "    return player_points1, player_points2\n",
    "\n",
    "Nadal1, Nadal2 = get_player_points('Rafael Nadal', us18_matches, us18_points)\n",
    "\n",
    "Nadal1.head()\n"
   ]
  },
  {
   "cell_type": "markdown",
   "metadata": {},
   "source": [
    "# Streak Counting"
   ]
  },
  {
   "cell_type": "code",
   "execution_count": 85,
   "metadata": {},
   "outputs": [],
   "source": [
    "def count_streaks(points1, points2):\n",
    "    # Subset points to where at least a return was made\n",
    "    points1 = points1[(points1.P1DoubleFault != 1) & (points1.P2DoubleFault != 1)]\n",
    "    points1 = points1[points1.P2UnfErr == 0]\n",
    "\n",
    "\n",
    "    # points2 = points2.dropna(subset=['ReturnDepth'])\n",
    "    points2 = points2[(points2.P1DoubleFault != 1) & (points2.P2DoubleFault != 1)]\n",
    "    points2 = points2[points2.P1UnfErr == 0]\n",
    "\n",
    "    make_counts = []\n",
    "    miss_counts = []\n",
    "    streak_count = 0\n",
    "    prev = None\n",
    "\n",
    "    for i in range(np.shape(points1)[0]):\n",
    "        isErr = points1.iloc[i].P1UnfErr\n",
    "\n",
    "        if (prev == isErr) and (streak_count > 0):\n",
    "            streak_count += 1\n",
    "        \n",
    "        elif (prev == isErr):\n",
    "            streak_count += 2\n",
    "        \n",
    "        elif streak_count > 0:\n",
    "            if prev == 1:\n",
    "                miss_counts.append(streak_count)\n",
    "            else:\n",
    "                make_counts.append(streak_count)\n",
    "            \n",
    "            streak_count = 0\n",
    "        \n",
    "        prev = isErr\n",
    "\n",
    "    for i in range(np.shape(points2)[0]):\n",
    "        isErr = points2.iloc[i].P2UnfErr\n",
    "\n",
    "        if (prev == isErr) and (streak_count > 0):\n",
    "            streak_count += 1\n",
    "        \n",
    "        elif (prev == isErr):\n",
    "            streak_count += 2\n",
    "        \n",
    "        elif streak_count > 0:\n",
    "            if prev == 1:\n",
    "                miss_counts.append(streak_count)\n",
    "            else:\n",
    "                make_counts.append(streak_count)\n",
    "            \n",
    "            streak_count = 0\n",
    "        \n",
    "        prev = isErr\n",
    "\n",
    "    return make_counts, miss_counts\n",
    "\n",
    "def streakify(points1, points2):\n",
    "    # Subset points to where at least a return was made\n",
    "    points1 = points1[(points1.P1DoubleFault != 1) & (points1.P2DoubleFault != 1)]\n",
    "    points1 = points1[points1.P2UnfErr == 0]\n",
    "\n",
    "    # points2 = points2.dropna(subset=['ReturnDepth'])\n",
    "    points2 = points2[(points2.P1DoubleFault != 1) & (points2.P2DoubleFault != 1)]\n",
    "    points2 = points2[points2.P1UnfErr == 0]\n",
    "\n",
    "    outcomes = []\n",
    "\n",
    "    for i in range(np.shape(points1)[0]):\n",
    "        isErr = points1.iloc[i].P1UnfErr\n",
    "        whosPoint = points1.iloc[i].PointWinner\n",
    "\n",
    "        if isErr:\n",
    "            outcomes.append(0)\n",
    "        elif whosPoint == 1:\n",
    "            outcomes.append(1)\n",
    "\n",
    "    for i in range(np.shape(points2)[0]):\n",
    "        isErr = points2.iloc[i].P2UnfErr\n",
    "        whosPoint = points2.iloc[i].PointWinner\n",
    "\n",
    "        if isErr:\n",
    "            outcomes.append(0)\n",
    "        elif whosPoint == 2:\n",
    "            outcomes.append(1)\n",
    "        \n",
    "    return np.array(outcomes)\n",
    "\n",
    "\n",
    "def get_p(points1, points2):\n",
    "    points1 = points1.dropna(subset=['ReturnDepth'])\n",
    "    points1 = points1[points1.P2UnfErr == 0]\n",
    "    points2 = points2.dropna(subset=['ReturnDepth'])\n",
    "    points2 = points2[points2.P1UnfErr == 0]\n",
    "\n",
    "    summy = np.sum(points1.P1UnfErr) + np.sum(points2.P2UnfErr)\n",
    "\n",
    "    return 1 - (summy / (np.shape(points1)[0] + np.shape(points2)[0]))\n",
    "\n",
    "\n",
    "\n",
    "def wald_wolfowitz_distribution(x):\n",
    "    mu = 2*np.sum(x==0)*np.sum(x==1)/x.size + 1\n",
    "    sig = np.sqrt( 2*np.sum(x==0)*np.sum(x==1)*(2*np.sum(x==0)*np.sum(x==1)-x.size)/(x.size**2*(x.size-1)))\n",
    "    return mu,sig"
   ]
  },
  {
   "cell_type": "markdown",
   "metadata": {},
   "source": [
    "# Nadal: A case study"
   ]
  },
  {
   "cell_type": "code",
   "execution_count": 123,
   "metadata": {},
   "outputs": [],
   "source": [
    "\n",
    "def simulated_iid_series(x,nsims=10000,kmax = 40):\n",
    "    # calculate the number of streaks of a given length for an IDD series with P_M = mean of input series\n",
    "    tmake = []\n",
    "    tmiss = []\n",
    "    p = x.mean()\n",
    "    for i in tqdm(range(nsims)):\n",
    "        x = stats.bernoulli.rvs(p,size=x.size)\n",
    "        make,miss = find_streak_distributions(x,kmax)\n",
    "        tmake.append(make)\n",
    "        tmiss.append(miss)\n",
    "    tmiss = np.array(tmiss)\n",
    "    tmake = np.array(tmake)\n",
    "    mu_make = np.mean(tmake,axis=0)\n",
    "    sig_make = np.std(tmake,axis=0)\n",
    "    mu_miss = np.mean(tmiss,axis=0)\n",
    "    sig_miss = np.std(tmiss,axis=0)\n",
    "    return mu_make,sig_make,mu_miss,sig_miss\n",
    "\n",
    "def test_streak_distribution_hypothesis(counts,mu,sig,plot=False,null_only=False):\n",
    "    # takes input from find_streak_distributions and simulated_series\n",
    "    kmax = np.max(np.nonzero(counts))+1\n",
    "    chi2 = np.sum((counts[:kmax]-mu[:kmax])**2/sig[:kmax]**2)\n",
    "    print(kmax,chi2)\n",
    "    print(1-stats.chi2.cdf(chi2,kmax-1))\n",
    "    if plot:\n",
    "        fig,ax = plt.subplots()\n",
    "        kvals = 1+np.arange(kmax)\n",
    "        ax.bar(kvals,mu[:kmax],alpha=0.3,color='g',yerr=sig[:kmax], ecolor='g')\n",
    "        ax.set_xticks(kvals)\n",
    "        ax.set_xlim(0,kmax)\n",
    "        if not null_only:\n",
    "            ax.plot(kvals,counts[:kmax],'kd')\n",
    "        ax.set_xlabel('k')\n",
    "        ax.set_ylabel('S_k')\n",
    "\n",
    "def wald_wolfowitz_distribution(x):\n",
    "    mu = 2*np.sum(x==0)*np.sum(x==1)/x.size + 1\n",
    "    sig = np.sqrt( 2*np.sum(x==0)*np.sum(x==1)*(2*np.sum(x==0)*np.sum(x==1)-x.size)/(x.size**2*(x.size-1)))\n",
    "    return mu,sig\n",
    "\n",
    "def find_streak_distributions(x,run_length):\n",
    "    # find number of streaks of misses or makes up to a length 'run_length'\n",
    "    make_counts = np.zeros(run_length)\n",
    "    miss_counts = np.zeros(run_length)\n",
    "    count = 0\n",
    "    for i in range(1,x.size):\n",
    "        if x[i]!=x[i-1]:\n",
    "            if x[i-1]==1:\n",
    "                make_counts[count] += 1\n",
    "            else:\n",
    "                miss_counts[count] += 1\n",
    "            count = 0\n",
    "        else:\n",
    "            if count < 49:\n",
    "                count += 1\n",
    "    # now do last shot\n",
    "    if x[i]==1:\n",
    "        make_counts[count] += 1\n",
    "    else:\n",
    "        miss_counts[count] += 1  \n",
    "    return make_counts,miss_counts\n",
    "\n",
    "def conditional_probability(x,k,make_streak=True):\n",
    "    '''\n",
    "    From bernoulli series 'x' calculates the number of made streaks (if make_streak=True),\n",
    "    or missed streaks (if make_streak=False) of length k, and the number of made shots immediately,\n",
    "    following each streak.\n",
    "    \n",
    "    Returns:\n",
    "        \n",
    "    streak_counts: number of streaks of length 'k' in series x\n",
    "    make_counts  : number of made shots following each streak\n",
    "    pcond        : the proportion of streaks that were followed by a made shot\n",
    "    '''\n",
    "    streak_counts = 0\n",
    "    make_counts = 0\n",
    "    current_streak = 0\n",
    "    for i in range(x.size-1):\n",
    "        if x[i]==make_streak:\n",
    "            current_streak += 1\n",
    "        else:\n",
    "            current_streak = 0\n",
    "        if current_streak>=k:\n",
    "            streak_counts += 1\n",
    "            make_counts += x[i+1]\n",
    "            #current_streak = 0\n",
    "    if streak_counts>0:\n",
    "        pcond = make_counts/streak_counts\n",
    "    else:\n",
    "        pcond = np.nan\n",
    "    return streak_counts,make_counts,pcond"
   ]
  },
  {
   "cell_type": "code",
   "execution_count": 113,
   "metadata": {},
   "outputs": [],
   "source": [
    "players = ['Rafael Nadal']\n",
    "tours = ['ausopen', 'frenchopen', 'usopen', 'wimbledon']\n",
    "\n",
    "# make_counts = []\n",
    "# miss_counts = []\n",
    "outcomes = np.array([])\n",
    "\n",
    "# Triply four loop dont tell my CS profs ;(\n",
    "for year in np.arange(2011, 2018):\n",
    "    for tour in tours:\n",
    "        matches = pd.read_csv('tennis_data/' + str(year) + '-' + tour + '-matches.csv')\n",
    "        points = pd.read_csv('tennis_data/' + str(year) + '-' + tour + '-points.csv')\n",
    "\n",
    "        tour_players = list(set(np.append(matches.player1.values, matches.player2.values)))\n",
    "\n",
    "        # Go through tournament players only in the top 100 (avoids NaN values)\n",
    "        for player in [x for x in tour_players if x in players]:\n",
    "            points1, points2 = get_player_points(player, matches, points)\n",
    "\n",
    "            outcomes = np.append(outcomes, streakify(points1, points2))\n",
    "\n",
    "\n"
   ]
  },
  {
   "cell_type": "code",
   "execution_count": 124,
   "metadata": {},
   "outputs": [
    {
     "name": "stderr",
     "output_type": "stream",
     "text": [
      "100%|██████████| 10000/10000 [01:03<00:00, 156.55it/s]\n"
     ]
    },
    {
     "name": "stdout",
     "output_type": "stream",
     "text": [
      "50 363.2170189249223\n",
      "0.0\n"
     ]
    },
    {
     "data": {
      "image/png": "[encoded data removed]",
      "text/plain": "<Figure size 432x288 with 1 Axes>"
     },
     "metadata": {
      "needs_background": "light"
     },
     "output_type": "display_data"
    }
   ],
   "source": [
    "make,miss = find_streak_distributions(outcomes,50)\n",
    "mu_make,std_make,mu_miss,std_miss = simulated_iid_series(outcomes,kmax=50)\n",
    "test_streak_distribution_hypothesis(make,mu_make,std_make,plot=True)"
   ]
  },
  {
   "cell_type": "code",
   "execution_count": 116,
   "metadata": {},
   "outputs": [
    {
     "data": {
      "text/plain": "array([434., 315., 263., 213., 151., 105.,  72.,  65.,  41.,  34.,  29.,\n        29.,  10.,  10.,  14.,  13.,  12.,   3.,   5.,   3.,   6.,   4.,\n         3.,   1.,   3.,   3.,   0.,   2.,   1.,   0.,   0.,   1.,   0.,\n         0.,   1.,   2.,   0.,   0.,   0.,   0.,   1.,   0.,   0.,   0.,\n         0.,   0.,   0.,   0.,   0.,   0.,   0.,   0.,   0.,   0.,   0.,\n         0.,   0.,   0.,   0.,   0.,   0.,   0.,   0.,   0.,   1.,   0.,\n         0.,   0.,   0.,   0.,   0.,   0.,   0.,   0.,   0.,   0.,   0.,\n         0.,   0.,   0.,   0.,   0.,   0.,   0.,   0.,   0.,   0.,   0.,\n         0.,   0.,   0.,   0.,   0.,   0.,   0.,   0.,   0.,   0.,   0.,\n         0.,   0.,   0.,   0.,   0.,   0.,   0.,   0.,   0.,   0.,   0.,\n         0.,   0.,   0.,   0.,   0.,   0.,   0.,   0.,   0.,   0.,   0.,\n         0.,   0.,   0.,   0.,   0.,   0.,   0.,   0.,   0.,   0.,   0.,\n         0.,   0.,   0.,   0.,   0.,   0.,   0.,   0.,   0.,   0.,   0.,\n         0.,   0.,   0.,   0.,   0.,   0.,   0.,   0.,   0.,   0.,   0.,\n         0.,   0.,   0.,   0.,   0.,   0.,   0.,   0.,   0.,   0.,   0.,\n         0.,   0.,   0.,   0.,   0.,   0.,   0.,   0.,   0.,   0.,   0.,\n         0.,   0.,   0.,   0.,   0.,   0.,   0.,   0.,   0.,   0.,   0.,\n         0.,   0.,   0.,   0.,   0.,   0.,   0.,   0.,   0.,   0.,   0.,\n         0.,   0.])"
     },
     "execution_count": 116,
     "metadata": {},
     "output_type": "execute_result"
    }
   ],
   "source": [
    "make"
   ]
  },
  {
   "cell_type": "code",
   "execution_count": null,
   "metadata": {},
   "outputs": [],
   "source": []
  }
 ],
 "metadata": {
  "kernelspec": {
   "display_name": "Python 3.8.5 64-bit ('Stat143-tcupbjG0': pipenv)",
   "name": "python385jvsc74a57bd03553bbdbca6dcc6a0267c6735dd7b03e30459b2429eb4abfe34f3ad9df95fec9"
  },
  "language_info": {
   "codemirror_mode": {
    "name": "ipython",
    "version": 3
   },
   "file_extension": ".py",
   "mimetype": "text/x-python",
   "name": "python",
   "nbconvert_exporter": "python",
   "pygments_lexer": "ipython3",
   "version": "3.8.5"
  },
  "orig_nbformat": 2
 },
 "nbformat": 4,
 "nbformat_minor": 2
}