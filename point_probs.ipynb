{
 "cells": [
  {
   "cell_type": "code",
   "execution_count": 2,
   "metadata": {},
   "outputs": [],
   "source": [
    "import pandas as pd\n",
    "import numpy as np\n",
    "import matplotlib.pyplot as plt\n",
    "import scipy.stats as stats\n",
    "from sklearn.linear_model import LogisticRegression\n",
    "from tqdm import tqdm\n",
    "import pickle"
   ]
  },
  {
   "cell_type": "markdown",
   "metadata": {},
   "source": [
    "The goal is to compile the data from the USTA 2017 top 50 players and encode this into datasets of probability of winning a point based off of elo and court surface.\n",
    "This will be a simple logistic model where the elo term is the difference between the servers elo and returners elo."
   ]
  },
  {
   "cell_type": "code",
   "execution_count": 12,
   "metadata": {},
   "outputs": [
    {
     "data": {
      "text/html": "<div>\n<style scoped>\n    .dataframe tbody tr th:only-of-type {\n        vertical-align: middle;\n    }\n\n    .dataframe tbody tr th {\n        vertical-align: top;\n    }\n\n    .dataframe thead th {\n        text-align: right;\n    }\n</style>\n<table border=\"1\" class=\"dataframe\">\n  <thead>\n    <tr style=\"text-align: right;\">\n      <th></th>\n      <th>rank</th>\n      <th>name</th>\n      <th>country_name</th>\n      <th>country_id</th>\n      <th>points</th>\n      <th>bestRank</th>\n      <th>bestRankDate</th>\n      <th>rankDiff</th>\n      <th>pointsDiff</th>\n      <th>bestPoints</th>\n    </tr>\n  </thead>\n  <tbody>\n    <tr>\n      <th>0</th>\n      <td>1</td>\n      <td>Roger Federer</td>\n      <td>Switzerland</td>\n      <td>SUI</td>\n      <td>2444</td>\n      <td>1</td>\n      <td>2003-08-11</td>\n      <td>0</td>\n      <td>0</td>\n      <td>2550</td>\n    </tr>\n    <tr>\n      <th>1</th>\n      <td>2</td>\n      <td>Novak Djokovic</td>\n      <td>Serbia</td>\n      <td>SRB</td>\n      <td>2418</td>\n      <td>1</td>\n      <td>2011-03-21</td>\n      <td>0</td>\n      <td>0</td>\n      <td>2629</td>\n    </tr>\n    <tr>\n      <th>2</th>\n      <td>3</td>\n      <td>Andy Murray</td>\n      <td>United Kingdom</td>\n      <td>GBR</td>\n      <td>2353</td>\n      <td>2</td>\n      <td>2009-04-19</td>\n      <td>0</td>\n      <td>0</td>\n      <td>2500</td>\n    </tr>\n    <tr>\n      <th>3</th>\n      <td>4</td>\n      <td>Rafael Nadal</td>\n      <td>Spain</td>\n      <td>ESP</td>\n      <td>2350</td>\n      <td>1</td>\n      <td>2008-06-16</td>\n      <td>0</td>\n      <td>0</td>\n      <td>2552</td>\n    </tr>\n    <tr>\n      <th>4</th>\n      <td>5</td>\n      <td>Juan Martin Del Potro</td>\n      <td>Argentina</td>\n      <td>ARG</td>\n      <td>2243</td>\n      <td>3</td>\n      <td>2010-06-07</td>\n      <td>0</td>\n      <td>0</td>\n      <td>2331</td>\n    </tr>\n  </tbody>\n</table>\n</div>",
      "text/plain": "   rank                   name    country_name country_id  points  bestRank  \\\n0     1          Roger Federer     Switzerland        SUI    2444         1   \n1     2         Novak Djokovic          Serbia        SRB    2418         1   \n2     3            Andy Murray  United Kingdom        GBR    2353         2   \n3     4           Rafael Nadal           Spain        ESP    2350         1   \n4     5  Juan Martin Del Potro       Argentina        ARG    2243         3   \n\n  bestRankDate  rankDiff  pointsDiff  bestPoints  \n0   2003-08-11         0           0        2550  \n1   2011-03-21         0           0        2629  \n2   2009-04-19         0           0        2500  \n3   2008-06-16         0           0        2552  \n4   2010-06-07         0           0        2331  "
     },
     "execution_count": 12,
     "metadata": {},
     "output_type": "execute_result"
    }
   ],
   "source": [
    "rankings = pd.read_csv('Elo_Rankings2017.csv')\n",
    "rankings.head()"
   ]
  },
  {
   "cell_type": "code",
   "execution_count": 16,
   "metadata": {},
   "outputs": [
    {
     "name": "stderr",
     "output_type": "stream",
     "text": [
      "100%|██████████| 4/4 [07:07<00:00, 106.87s/it]\n"
     ]
    }
   ],
   "source": [
    "points_matrix = np.array([[0, 1, 2]])\n",
    "\n",
    "tours = ['ausopen', 'frenchopen', 'usopen', 'wimbledon']\n",
    "\n",
    "for year in tqdm(np.arange(2014, 2018)):\n",
    "    for tour in tours:\n",
    "        matches = pd.read_csv('tennis_data/' + str(year) + '-' + tour + '-matches.csv')\n",
    "        points = pd.read_csv('tennis_data/' + str(year) + '-' + tour + '-points.csv')\n",
    "        points = points[points.PointWinner != 0]\n",
    "        points = points.reset_index()\n",
    "\n",
    "        points_sub_matrix = np.zeros((np.shape(points)[0], 3))\n",
    "\n",
    "        for i, point in points.iterrows(): #range(np.shape(points)[0]):\n",
    "            p1 = matches.player1.values[matches.match_id == point.match_id][0] \n",
    "            p2 = matches.player2.values[matches.match_id == point.match_id][0]\n",
    "\n",
    "            if ((p1 in (rankings.name.values)) == False) | ((p2 in (rankings.name.values)) == False):\n",
    "                # We don't know one of the elo ratings of the players so we pass it off\n",
    "                points_sub_matrix[i] = [np.nan, np.nan, np.nan]\n",
    "                continue\n",
    "\n",
    "            p1_elo = rankings.points[rankings.name == p1].values[0]\n",
    "            p2_elo = rankings.points[rankings.name == p2].values[0]\n",
    "\n",
    "            if tour == 'wimbledon':\n",
    "                court = 1 #'grass'\n",
    "            elif tour == 'frenchopen':\n",
    "                court = 2 # 'clay'\n",
    "            else:\n",
    "                court = 3 # 'hard'\n",
    "\n",
    "            winner = points.iloc[i].PointWinner\n",
    "\n",
    "            # Determine who is serving\n",
    "            # ***** Response is 0 if Server wins point, 1 if Returner wins point\n",
    "            if point.PointServer == 1:\n",
    "                if winner == point.PointServer:\n",
    "                    points_sub_matrix[i] = [(p1_elo - p2_elo), court, 0]\n",
    "                else:\n",
    "                    points_sub_matrix[i] = [(p1_elo - p2_elo), court, 1]\n",
    "\n",
    "            elif point.PointServer == 2:\n",
    "                if winner == point.PointServer:\n",
    "                    points_sub_matrix[i] = [(p2_elo - p1_elo), court, 0]\n",
    "                else:\n",
    "                    points_sub_matrix[i] = [(p2_elo - p1_elo), court, 1]\n",
    "\n",
    "\n",
    "        points_matrix = np.append(points_matrix, points_sub_matrix, axis=0)\n"
   ]
  },
  {
   "cell_type": "code",
   "execution_count": 22,
   "metadata": {},
   "outputs": [
    {
     "data": {
      "text/html": "<div>\n<style scoped>\n    .dataframe tbody tr th:only-of-type {\n        vertical-align: middle;\n    }\n\n    .dataframe tbody tr th {\n        vertical-align: top;\n    }\n\n    .dataframe thead th {\n        text-align: right;\n    }\n</style>\n<table border=\"1\" class=\"dataframe\">\n  <thead>\n    <tr style=\"text-align: right;\">\n      <th></th>\n      <th>elo_diff</th>\n      <th>court</th>\n      <th>winner</th>\n    </tr>\n  </thead>\n  <tbody>\n    <tr>\n      <th>0</th>\n      <td>-474.0</td>\n      <td>3.0</td>\n      <td>0.0</td>\n    </tr>\n    <tr>\n      <th>1</th>\n      <td>-474.0</td>\n      <td>3.0</td>\n      <td>1.0</td>\n    </tr>\n    <tr>\n      <th>2</th>\n      <td>-474.0</td>\n      <td>3.0</td>\n      <td>0.0</td>\n    </tr>\n    <tr>\n      <th>3</th>\n      <td>-474.0</td>\n      <td>3.0</td>\n      <td>0.0</td>\n    </tr>\n    <tr>\n      <th>4</th>\n      <td>-474.0</td>\n      <td>3.0</td>\n      <td>1.0</td>\n    </tr>\n  </tbody>\n</table>\n</div>",
      "text/plain": "   elo_diff court winner\n0    -474.0   3.0    0.0\n1    -474.0   3.0    1.0\n2    -474.0   3.0    0.0\n3    -474.0   3.0    0.0\n4    -474.0   3.0    1.0"
     },
     "execution_count": 22,
     "metadata": {},
     "output_type": "execute_result"
    }
   ],
   "source": [
    "colnames = ['elo_diff', 'court', 'winner']\n",
    "points_df = pd.DataFrame(points_matrix[1:], columns=colnames)\n",
    "points_df = points_df.dropna()\n",
    "points_df.to_csv('point_probs.csv')\n",
    "points_df['court'] = points_df['court'].astype('category')\n",
    "points_df['winner'] = points_df['winner'].astype('category')\n",
    "\n",
    "points_df.head()"
   ]
  },
  {
   "cell_type": "code",
   "execution_count": 23,
   "metadata": {},
   "outputs": [],
   "source": [
    "logreg = LogisticRegression(random_state=143).fit(points_df[['elo_diff', 'court']], points_df['winner'])"
   ]
  },
  {
   "cell_type": "code",
   "execution_count": 24,
   "metadata": {},
   "outputs": [],
   "source": [
    "# Save model to be used in streaks script\n",
    "pickle.dump(logreg, open('point_prob_model.sav', 'wb'))"
   ]
  },
  {
   "cell_type": "code",
   "execution_count": 22,
   "metadata": {},
   "outputs": [
    {
     "data": {
      "text/plain": "array([[-0.00066997,  0.05252886]])"
     },
     "execution_count": 22,
     "metadata": {},
     "output_type": "execute_result"
    }
   ],
   "source": [
    "lm_points = pickle.load(open('point_prob_model.sav', 'rb'))\n",
    "\n",
    "lm_points.coef_"
   ]
  },
  {
   "cell_type": "code",
   "execution_count": 26,
   "metadata": {},
   "outputs": [
    {
     "name": "stdout",
     "output_type": "stream",
     "text": [
      "[0.]\n",
      "[[0.60381707 0.39618293]]\n",
      "0.6038170725687877\n"
     ]
    }
   ],
   "source": [
    "print(logreg.predict(np.array([[-200.0, 3.0]])))\n",
    "print(logreg.predict_proba(np.array([[-200.0, 3.0]])))\n",
    "print(logreg.predict_proba(np.array([[-200.0, 3.0]]))[:,0][0])"
   ]
  },
  {
   "cell_type": "code",
   "execution_count": 7,
   "metadata": {},
   "outputs": [],
   "source": [
    "federer_match_ids = []\n",
    "tours = ['ausopen', 'usopen']\n",
    "\n",
    "for year in (np.arange(2014, 2018)):\n",
    "    for tour in tours:\n",
    "        matches = pd.read_csv('tennis_data/' + str(year) + '-' + tour + '-matches.csv')\n",
    "\n",
    "        federer_match_ids.append( list(set(matches[matches.player1 == 'Roger Federer'].match_id.values)))\n",
    "        federer_match_ids.append( list(set(matches[matches.player2 == 'Roger Federer'].match_id.values)))\n",
    "\n",
    "federer_match_ids = list(np.concatenate(federer_match_ids).flat)\n",
    "federer_match_ids"
   ]
  },
  {
   "cell_type": "markdown",
   "metadata": {},
   "source": [
    "# Test calibration with Federer"
   ]
  },
  {
   "cell_type": "code",
   "execution_count": 57,
   "metadata": {},
   "outputs": [
    {
     "name": "stderr",
     "output_type": "stream",
     "text": [
      "100%|██████████| 4/4 [02:19<00:00, 34.83s/it]\n"
     ]
    }
   ],
   "source": [
    "\n",
    "federer_matrix = np.array([[0, 1, 2]])\n",
    "\n",
    "tours = ['ausopen', 'usopen']\n",
    "player = 'Roger Federer'\n",
    "\n",
    "for year in tqdm(np.arange(2014, 2018)):\n",
    "    for tour in tours:\n",
    "        matches = pd.read_csv('tennis_data/' + str(year) + '-' + tour + '-matches.csv')\n",
    "        points = pd.read_csv('tennis_data/' + str(year) + '-' + tour + '-points.csv')\n",
    "        points = points[points.PointWinner != 0]\n",
    "        points = points.reset_index()\n",
    "\n",
    "        points_sub_matrix = np.zeros((np.shape(points)[0], 3))\n",
    "\n",
    "        for i, point in points.iterrows(): #range(np.shape(points)[0]):\n",
    "            p1 = matches.player1.values[matches.match_id == point.match_id][0] \n",
    "            p2 = matches.player2.values[matches.match_id == point.match_id][0]\n",
    "\n",
    "            if ((p1 in (rankings.name.values)) == False) | ((p2 in (rankings.name.values)) == False):\n",
    "                # We don't know one of the elo ratings of the players so we pass it off\n",
    "                points_sub_matrix[i] = [np.nan, np.nan, np.nan]\n",
    "                continue\n",
    "\n",
    "            if (p1 != player):\n",
    "                continue\n",
    "\n",
    "            p1_elo = rankings.points[rankings.name == p1].values[0]\n",
    "            p2_elo = rankings.points[rankings.name == p2].values[0]\n",
    "\n",
    "            if tour == 'wimbledon':\n",
    "                court = 1 #'grass'\n",
    "            elif tour == 'frenchopen':\n",
    "                court = 2 # 'clay'\n",
    "            else:\n",
    "                court = 3 # 'hard'\n",
    "\n",
    "            winner = points.iloc[i].PointWinner\n",
    "\n",
    "            # Determine who is serving\n",
    "            # ***** Response is 0 if Server wins point, 1 if Returner wins point\n",
    "            if point.PointServer == 1:\n",
    "                if winner == point.PointServer:\n",
    "                    points_sub_matrix[i] = [(p1_elo - p2_elo), court, 0]\n",
    "                else:\n",
    "                    points_sub_matrix[i] = [(p1_elo - p2_elo), court, 1]\n",
    "\n",
    "\n",
    "        federer_matrix = np.append(federer_matrix, points_sub_matrix, axis=0)"
   ]
  },
  {
   "cell_type": "code",
   "execution_count": 58,
   "metadata": {},
   "outputs": [
    {
     "data": {
      "text/html": "<div>\n<style scoped>\n    .dataframe tbody tr th:only-of-type {\n        vertical-align: middle;\n    }\n\n    .dataframe tbody tr th {\n        vertical-align: top;\n    }\n\n    .dataframe thead th {\n        text-align: right;\n    }\n</style>\n<table border=\"1\" class=\"dataframe\">\n  <thead>\n    <tr style=\"text-align: right;\">\n      <th></th>\n      <th>elo_diff</th>\n      <th>court</th>\n      <th>winner</th>\n    </tr>\n  </thead>\n  <tbody>\n    <tr>\n      <th>133008</th>\n      <td>597.0</td>\n      <td>3.0</td>\n      <td>0.0</td>\n    </tr>\n    <tr>\n      <th>133009</th>\n      <td>597.0</td>\n      <td>3.0</td>\n      <td>0.0</td>\n    </tr>\n    <tr>\n      <th>133010</th>\n      <td>597.0</td>\n      <td>3.0</td>\n      <td>0.0</td>\n    </tr>\n    <tr>\n      <th>133011</th>\n      <td>597.0</td>\n      <td>3.0</td>\n      <td>0.0</td>\n    </tr>\n    <tr>\n      <th>133018</th>\n      <td>597.0</td>\n      <td>3.0</td>\n      <td>0.0</td>\n    </tr>\n  </tbody>\n</table>\n</div>",
      "text/plain": "        elo_diff court  winner\n133008     597.0   3.0     0.0\n133009     597.0   3.0     0.0\n133010     597.0   3.0     0.0\n133011     597.0   3.0     0.0\n133018     597.0   3.0     0.0"
     },
     "execution_count": 58,
     "metadata": {},
     "output_type": "execute_result"
    }
   ],
   "source": [
    "colnames = ['elo_diff', 'court', 'winner']\n",
    "federer_df = pd.DataFrame(federer_matrix[1:], columns=colnames)\n",
    "federer_df = federer_df.dropna()\n",
    "federer_df.to_csv('point_probs.csv')\n",
    "federer_df['court'] = federer_df['court'].astype('category')\n",
    "# federer_df['winner'] = federer_df['winner'].astype('category')\n",
    "federer_df = federer_df[(federer_df.elo_diff != 0)]\n",
    "\n",
    "# federer_df.to_csv('federer_test_data.csv')\n",
    "federer_df.head()"
   ]
  },
  {
   "cell_type": "code",
   "execution_count": 59,
   "metadata": {},
   "outputs": [],
   "source": [
    "# Bin the data\n",
    "elo_diffs_unique = np.unique(federer_df.elo_diff.values)\n",
    "\n",
    "# federer_df['winner'] = federer_df['winner'].astype('numeric')\n",
    "\n",
    "bin_win_avg = []\n",
    "\n",
    "for diff in elo_diffs_unique:\n",
    "    subdf = federer_df[federer_df.elo_diff == diff]\n",
    "    bin_win_avg.append(np.mean(subdf.winner))\n",
    "\n",
    "\n",
    "federer_df['winner'] = federer_df['winner'].astype('category')\n",
    "preds = lm_points.predict_proba(federer_df[['elo_diff', 'court']])[:,1]\n"
   ]
  },
  {
   "cell_type": "code",
   "execution_count": 60,
   "metadata": {},
   "outputs": [
    {
     "data": {
      "image/png": "[encoded data removed]",
      "text/plain": "<Figure size 432x288 with 1 Axes>"
     },
     "metadata": {
      "needs_background": "light"
     },
     "output_type": "display_data"
    }
   ],
   "source": [
    "plt.plot(federer_df.elo_diff, preds, color='blue', label = 'Prediction')\n",
    "plt.scatter(elo_diffs_unique, bin_win_avg, color='red', label = 'Outcome')\n",
    "plt.xlabel('Elo Difference From Federer')\n",
    "plt.ylabel('Probability of winning point')\n",
    "plt.legend()\n",
    "plt.savefig('Federer_model_check.png')\n"
   ]
  },
  {
   "cell_type": "code",
   "execution_count": 55,
   "metadata": {},
   "outputs": [
    {
     "data": {
      "text/plain": "<Figure size 432x288 with 0 Axes>"
     },
     "metadata": {},
     "output_type": "display_data"
    }
   ],
   "source": []
  },
  {
   "cell_type": "code",
   "execution_count": null,
   "metadata": {},
   "outputs": [],
   "source": []
  }
 ],
 "metadata": {
  "kernelspec": {
   "display_name": "Python 3.8.5 64-bit ('Stat143-tcupbjG0': pipenv)",
   "name": "python385jvsc74a57bd03553bbdbca6dcc6a0267c6735dd7b03e30459b2429eb4abfe34f3ad9df95fec9"
  },
  "language_info": {
   "codemirror_mode": {
    "name": "ipython",
    "version": 3
   },
   "file_extension": ".py",
   "mimetype": "text/x-python",
   "name": "python",
   "nbconvert_exporter": "python",
   "pygments_lexer": "ipython3",
   "version": "3.8.5"
  },
  "orig_nbformat": 2
 },
 "nbformat": 4,
 "nbformat_minor": 2
}