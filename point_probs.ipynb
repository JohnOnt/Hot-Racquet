{
 "cells": [
  {
   "cell_type": "code",
   "execution_count": 93,
   "metadata": {},
   "outputs": [],
   "source": [
    "import pandas as pd\n",
    "import numpy as np\n",
    "import matplotlib.pyplot as plt\n",
    "import scipy.stats as stats\n",
    "from sklearn.linear_model import LogisticRegression\n",
    "from tqdm import tqdm\n",
    "import pickle"
   ]
  },
  {
   "cell_type": "markdown",
   "metadata": {},
   "source": [
    "The goal is to compile the data from the USTA 2017 top 50 players and encode this into datasets of probability of winning a point based off of elo and court surface.\n",
    "This will be a simple logistic model where the elo term is the difference between the servers elo and returners elo."
   ]
  },
  {
   "cell_type": "code",
   "execution_count": 3,
   "metadata": {},
   "outputs": [
    {
     "data": {
      "text/html": "<div>\n<style scoped>\n    .dataframe tbody tr th:only-of-type {\n        vertical-align: middle;\n    }\n\n    .dataframe tbody tr th {\n        vertical-align: top;\n    }\n\n    .dataframe thead th {\n        text-align: right;\n    }\n</style>\n<table border=\"1\" class=\"dataframe\">\n  <thead>\n    <tr style=\"text-align: right;\">\n      <th></th>\n      <th>rank</th>\n      <th>name</th>\n      <th>country_name</th>\n      <th>country_id</th>\n      <th>points</th>\n      <th>bestRank</th>\n      <th>bestRankDate</th>\n      <th>rankDiff</th>\n      <th>pointsDiff</th>\n      <th>bestPoints</th>\n    </tr>\n  </thead>\n  <tbody>\n    <tr>\n      <th>0</th>\n      <td>1</td>\n      <td>Roger Federer</td>\n      <td>Switzerland</td>\n      <td>SUI</td>\n      <td>2444</td>\n      <td>1</td>\n      <td>2003-08-11</td>\n      <td>0</td>\n      <td>0</td>\n      <td>2550</td>\n    </tr>\n    <tr>\n      <th>1</th>\n      <td>2</td>\n      <td>Novak Djokovic</td>\n      <td>Serbia</td>\n      <td>SRB</td>\n      <td>2418</td>\n      <td>1</td>\n      <td>2011-03-21</td>\n      <td>0</td>\n      <td>0</td>\n      <td>2629</td>\n    </tr>\n    <tr>\n      <th>2</th>\n      <td>3</td>\n      <td>Andy Murray</td>\n      <td>United Kingdom</td>\n      <td>GBR</td>\n      <td>2353</td>\n      <td>2</td>\n      <td>2009-04-19</td>\n      <td>0</td>\n      <td>0</td>\n      <td>2500</td>\n    </tr>\n    <tr>\n      <th>3</th>\n      <td>4</td>\n      <td>Rafael Nadal</td>\n      <td>Spain</td>\n      <td>ESP</td>\n      <td>2350</td>\n      <td>1</td>\n      <td>2008-06-16</td>\n      <td>0</td>\n      <td>0</td>\n      <td>2552</td>\n    </tr>\n    <tr>\n      <th>4</th>\n      <td>5</td>\n      <td>Juan Martin Del Potro</td>\n      <td>Argentina</td>\n      <td>ARG</td>\n      <td>2243</td>\n      <td>3</td>\n      <td>2010-06-07</td>\n      <td>0</td>\n      <td>0</td>\n      <td>2331</td>\n    </tr>\n  </tbody>\n</table>\n</div>",
      "text/plain": "   rank                   name    country_name country_id  points  bestRank  \\\n0     1          Roger Federer     Switzerland        SUI    2444         1   \n1     2         Novak Djokovic          Serbia        SRB    2418         1   \n2     3            Andy Murray  United Kingdom        GBR    2353         2   \n3     4           Rafael Nadal           Spain        ESP    2350         1   \n4     5  Juan Martin Del Potro       Argentina        ARG    2243         3   \n\n  bestRankDate  rankDiff  pointsDiff  bestPoints  \n0   2003-08-11         0           0        2550  \n1   2011-03-21         0           0        2629  \n2   2009-04-19         0           0        2500  \n3   2008-06-16         0           0        2552  \n4   2010-06-07         0           0        2331  "
     },
     "execution_count": 3,
     "metadata": {},
     "output_type": "execute_result"
    }
   ],
   "source": [
    "rankings = pd.read_csv('Elo_Rankings2017.csv')\n",
    "rankings.head()"
   ]
  },
  {
   "cell_type": "code",
   "execution_count": 75,
   "metadata": {},
   "outputs": [],
   "source": [
    "points_matrix = np.array([[0, 1, 2]])\n",
    "\n",
    "tours = ['ausopen', 'frenchopen', 'usopen', 'wimbledon']\n",
    "\n",
    "for year in np.arange(2014, 2018):\n",
    "    for tour in tours:\n",
    "        matches = pd.read_csv('tennis_data/' + str(year) + '-' + tour + '-matches.csv')\n",
    "        points = pd.read_csv('tennis_data/' + str(year) + '-' + tour + '-points.csv')\n",
    "        points = points[points.PointWinner != 0]\n",
    "        points = points.reset_index()\n",
    "\n",
    "        points_sub_matrix = np.zeros((np.shape(points)[0], 3))\n",
    "\n",
    "        for i in range(np.shape(points)[0]):\n",
    "            p1 = matches.player1.values[matches.match_id == points.match_id[i]][0]\n",
    "            p2 = matches.player2.values[matches.match_id == points.match_id[i]][0]\n",
    "\n",
    "            if ((p1 in (rankings.name.values)) == False) | ((p2 in (rankings.name.values)) == False):\n",
    "                # We don't know one of the elo ratings of the players so we pass it off\n",
    "                points_sub_matrix[i] = [np.nan, np.nan, np.nan]\n",
    "                continue\n",
    "\n",
    "            #print(p1)\n",
    "            p1_elo = rankings.points[rankings.name == p1].values[0]\n",
    "            p2_elo = rankings.points[rankings.name == p2].values[0]\n",
    "\n",
    "            if tour == 'wimbledon':\n",
    "                court = 1 #'grass'\n",
    "            elif tour == 'frenchopen':\n",
    "                court = 2 # 'clay'\n",
    "            else:\n",
    "                court = 3 # 'hard'\n",
    "\n",
    "            winner = points.iloc[i].PointWinner - 1\n",
    "\n",
    "            points_sub_matrix[i] = [(p1_elo - p2_elo), court, winner]\n",
    "        \n",
    "        points_matrix = np.append(points_matrix, points_sub_matrix, axis=0)\n",
    "\n",
    "\n"
   ]
  },
  {
   "cell_type": "code",
   "execution_count": 81,
   "metadata": {},
   "outputs": [
    {
     "data": {
      "text/html": "<div>\n<style scoped>\n    .dataframe tbody tr th:only-of-type {\n        vertical-align: middle;\n    }\n\n    .dataframe tbody tr th {\n        vertical-align: top;\n    }\n\n    .dataframe thead th {\n        text-align: right;\n    }\n</style>\n<table border=\"1\" class=\"dataframe\">\n  <thead>\n    <tr style=\"text-align: right;\">\n      <th></th>\n      <th>elo_diff</th>\n      <th>court</th>\n      <th>winner</th>\n    </tr>\n  </thead>\n  <tbody>\n    <tr>\n      <th>0</th>\n      <td>474.0</td>\n      <td>3.0</td>\n      <td>1.0</td>\n    </tr>\n    <tr>\n      <th>1</th>\n      <td>474.0</td>\n      <td>3.0</td>\n      <td>0.0</td>\n    </tr>\n    <tr>\n      <th>2</th>\n      <td>474.0</td>\n      <td>3.0</td>\n      <td>1.0</td>\n    </tr>\n    <tr>\n      <th>3</th>\n      <td>474.0</td>\n      <td>3.0</td>\n      <td>1.0</td>\n    </tr>\n    <tr>\n      <th>4</th>\n      <td>474.0</td>\n      <td>3.0</td>\n      <td>0.0</td>\n    </tr>\n  </tbody>\n</table>\n</div>",
      "text/plain": "   elo_diff  court  winner\n0     474.0    3.0     1.0\n1     474.0    3.0     0.0\n2     474.0    3.0     1.0\n3     474.0    3.0     1.0\n4     474.0    3.0     0.0"
     },
     "execution_count": 81,
     "metadata": {},
     "output_type": "execute_result"
    }
   ],
   "source": [
    "colnames = ['elo_diff', 'court', 'winner']\n",
    "points_df = pd.DataFrame(points_matrix[1:], columns=colnames)\n",
    "points_df = points_df.dropna()\n",
    "# points_df.to_csv('point_probs.csv')\n",
    "points_df['court'] = points_df['court'].astype('category')\n",
    "points_df['winner'] = points_df['winner'].astype('category')\n",
    "\n",
    "points_df.head()"
   ]
  },
  {
   "cell_type": "code",
   "execution_count": 90,
   "metadata": {},
   "outputs": [],
   "source": [
    "logreg = LogisticRegression(random_state=143).fit(points_df[['elo_diff', 'court']], points_df['winner'])"
   ]
  },
  {
   "cell_type": "code",
   "execution_count": 94,
   "metadata": {},
   "outputs": [],
   "source": [
    "# Save model to be used in streaks script\n",
    "pickle.dump(logreg, open('point_prob_model.sav', 'wb'))"
   ]
  },
  {
   "cell_type": "code",
   "execution_count": 95,
   "metadata": {},
   "outputs": [
    {
     "data": {
      "text/plain": "array([[-0.00055141, -0.00276414]])"
     },
     "execution_count": 95,
     "metadata": {},
     "output_type": "execute_result"
    }
   ],
   "source": [
    "logreg_loaded = pickle.load(open('point_prob_model.sav', 'rb'))\n",
    "\n",
    "logreg_loaded.coef_"
   ]
  },
  {
   "cell_type": "code",
   "execution_count": null,
   "metadata": {},
   "outputs": [],
   "source": []
  }
 ],
 "metadata": {
  "kernelspec": {
   "display_name": "Python 3.8.5 64-bit ('Stat143-tcupbjG0': pipenv)",
   "name": "python385jvsc74a57bd03553bbdbca6dcc6a0267c6735dd7b03e30459b2429eb4abfe34f3ad9df95fec9"
  },
  "language_info": {
   "codemirror_mode": {
    "name": "ipython",
    "version": 3
   },
   "file_extension": ".py",
   "mimetype": "text/x-python",
   "name": "python",
   "nbconvert_exporter": "python",
   "pygments_lexer": "ipython3",
   "version": "3.8.5"
  },
  "orig_nbformat": 2
 },
 "nbformat": 4,
 "nbformat_minor": 2
}