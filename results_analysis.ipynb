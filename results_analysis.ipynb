{
 "cells": [
  {
   "cell_type": "code",
   "execution_count": 1,
   "metadata": {},
   "outputs": [],
   "source": [
    "import pandas as pd\n",
    "import matplotlib.pyplot as plt\n",
    "import plotly.express as px\n",
    "import numpy as np\n",
    "import pickle"
   ]
  },
  {
   "cell_type": "code",
   "execution_count": 2,
   "metadata": {},
   "outputs": [],
   "source": [
    "strks_pts = pd.read_csv('streaks_points.csv')\n",
    "rankings = pd.read_csv('Elo_Rankings2017.csv')\n",
    "\n",
    "strks_pts['Elo'] = rankings.points[:101]\n",
    "#strks_pts['chidf_ratio'] = strks_pts.chi2.values / strks_pts.kmax.values"
   ]
  },
  {
   "cell_type": "code",
   "execution_count": 3,
   "metadata": {},
   "outputs": [],
   "source": [
    "# Add significance column, Bonferroni corrected\n",
    "isSig = ['Yes' if p < (0.05/100) else 'No' for p in strks_pts['p-val'] ]\n",
    "strks_pts['Significant'] = isSig"
   ]
  },
  {
   "cell_type": "code",
   "execution_count": 5,
   "metadata": {},
   "outputs": [
    {
     "data": {
      "text/plain": "array([[0.55884713, 0.44115287]])"
     },
     "execution_count": 5,
     "metadata": {},
     "output_type": "execute_result"
    }
   ],
   "source": [
    "lm_points = pickle.load(open('point_prob_model.sav', 'rb'))\n",
    "# Federer 2444\n",
    "# 1968\n",
    "\n",
    "lm_points.predict_proba(np.array([[1968 - 2444, 3.0]]))"
   ]
  },
  {
   "cell_type": "code",
   "execution_count": 26,
   "metadata": {},
   "outputs": [
    {
     "data": {
      "text/html": "<div>\n<style scoped>\n    .dataframe tbody tr th:only-of-type {\n        vertical-align: middle;\n    }\n\n    .dataframe tbody tr th {\n        vertical-align: top;\n    }\n\n    .dataframe thead th {\n        text-align: right;\n    }\n</style>\n<table border=\"1\" class=\"dataframe\">\n  <thead>\n    <tr style=\"text-align: right;\">\n      <th></th>\n      <th>name</th>\n      <th>Player</th>\n      <th>kmax</th>\n      <th>chi2</th>\n      <th>p-val</th>\n      <th>Elo</th>\n      <th>Significant</th>\n    </tr>\n  </thead>\n  <tbody>\n    <tr>\n      <th>0</th>\n      <td>Roger Federer</td>\n      <td>Roger Federer</td>\n      <td>15.0</td>\n      <td>417.672217</td>\n      <td>0.000000</td>\n      <td>2444</td>\n      <td>Yes</td>\n    </tr>\n    <tr>\n      <th>1</th>\n      <td>Novak Djokovic</td>\n      <td>Novak Djokovic</td>\n      <td>15.0</td>\n      <td>425.592014</td>\n      <td>0.000000</td>\n      <td>2418</td>\n      <td>Yes</td>\n    </tr>\n    <tr>\n      <th>2</th>\n      <td>Andy Murray</td>\n      <td>Andy Murray</td>\n      <td>15.0</td>\n      <td>389.338743</td>\n      <td>0.000000</td>\n      <td>2353</td>\n      <td>Yes</td>\n    </tr>\n    <tr>\n      <th>3</th>\n      <td>Rafael Nadal</td>\n      <td>Rafael Nadal</td>\n      <td>15.0</td>\n      <td>265.191658</td>\n      <td>0.000000</td>\n      <td>2350</td>\n      <td>Yes</td>\n    </tr>\n    <tr>\n      <th>4</th>\n      <td>Juan Martin Del Potro</td>\n      <td>Juan Martin Del Potro</td>\n      <td>15.0</td>\n      <td>46.087044</td>\n      <td>0.000027</td>\n      <td>2243</td>\n      <td>Yes</td>\n    </tr>\n    <tr>\n      <th>...</th>\n      <td>...</td>\n      <td>...</td>\n      <td>...</td>\n      <td>...</td>\n      <td>...</td>\n      <td>...</td>\n      <td>...</td>\n    </tr>\n    <tr>\n      <th>96</th>\n      <td>Filip Krajinovic</td>\n      <td>Filip Krajinovic</td>\n      <td>15.0</td>\n      <td>16.971980</td>\n      <td>0.257674</td>\n      <td>1842</td>\n      <td>No</td>\n    </tr>\n    <tr>\n      <th>97</th>\n      <td>Thomaz Bellucci</td>\n      <td>Thomaz Bellucci</td>\n      <td>15.0</td>\n      <td>35.419467</td>\n      <td>0.001274</td>\n      <td>1834</td>\n      <td>No</td>\n    </tr>\n    <tr>\n      <th>98</th>\n      <td>Yen Hsun Lu</td>\n      <td>Yen Hsun Lu</td>\n      <td>15.0</td>\n      <td>23.360807</td>\n      <td>0.054646</td>\n      <td>1832</td>\n      <td>No</td>\n    </tr>\n    <tr>\n      <th>99</th>\n      <td>Tommy Haas</td>\n      <td>Tommy Haas</td>\n      <td>15.0</td>\n      <td>17.691379</td>\n      <td>0.221200</td>\n      <td>1831</td>\n      <td>No</td>\n    </tr>\n    <tr>\n      <th>100</th>\n      <td>Andrej Martin</td>\n      <td>Andrej Martin</td>\n      <td>15.0</td>\n      <td>14.929301</td>\n      <td>0.383005</td>\n      <td>1830</td>\n      <td>No</td>\n    </tr>\n  </tbody>\n</table>\n<p>101 rows × 7 columns</p>\n</div>",
      "text/plain": "                      name                 Player  kmax        chi2     p-val  \\\n0            Roger Federer          Roger Federer  15.0  417.672217  0.000000   \n1           Novak Djokovic         Novak Djokovic  15.0  425.592014  0.000000   \n2              Andy Murray            Andy Murray  15.0  389.338743  0.000000   \n3             Rafael Nadal           Rafael Nadal  15.0  265.191658  0.000000   \n4    Juan Martin Del Potro  Juan Martin Del Potro  15.0   46.087044  0.000027   \n..                     ...                    ...   ...         ...       ...   \n96        Filip Krajinovic       Filip Krajinovic  15.0   16.971980  0.257674   \n97         Thomaz Bellucci        Thomaz Bellucci  15.0   35.419467  0.001274   \n98             Yen Hsun Lu            Yen Hsun Lu  15.0   23.360807  0.054646   \n99              Tommy Haas             Tommy Haas  15.0   17.691379  0.221200   \n100          Andrej Martin          Andrej Martin  15.0   14.929301  0.383005   \n\n      Elo Significant  \n0    2444         Yes  \n1    2418         Yes  \n2    2353         Yes  \n3    2350         Yes  \n4    2243         Yes  \n..    ...         ...  \n96   1842          No  \n97   1834          No  \n98   1832          No  \n99   1831          No  \n100  1830          No  \n\n[101 rows x 7 columns]"
     },
     "execution_count": 26,
     "metadata": {},
     "output_type": "execute_result"
    }
   ],
   "source": [
    "strks_pts"
   ]
  },
  {
   "cell_type": "code",
   "execution_count": 22,
   "metadata": {},
   "outputs": [
    {
     "data": {
      "application/vnd.plotly.v1+json": {
       "config": {
        "plotlyServerURL": "https://plot.ly"
       },
       "data": [
        {
         "alignmentgroup": "True",
         "hovertemplate": "Significant=Yes<br>Player=%{x}<br>p-val=%{y}<extra></extra>",
         "legendgroup": "Yes",
         "marker": {
          "color": "#636efa"
         },
         "name": "Yes",
         "offsetgroup": "Yes",
         "orientation": "v",
         "showlegend": true,
         "textposition": "auto",
         "type": "bar",
         "x": [
          "Roger Federer",
          "Feliciano Lopez",
          "Lucas Pouille",
          "Gilles Muller",
          "Kevin Anderson",
          "John Isner",
          "Richard Gasquet",
          "Dominic Thiem",
          "Gael Monfils",
          "Nick Kyrgios",
          "Sam Querrey",
          "Tomas Berdych",
          "Jo Wilfried Tsonga",
          "Alexander Zverev",
          "Milos Raonic",
          "Kei Nishikori",
          "Grigor Dimitrov",
          "Stan Wawrinka",
          "Ivo Karlovic",
          "Rafael Nadal",
          "Andy Murray",
          "Novak Djokovic",
          "Marin Cilic",
          "David Ferrer",
          "Roberto Bautista Agut",
          "Jack Sock",
          "Steve Johnson",
          "David Goffin",
          "Gilles Simon",
          "Vasek Pospisil",
          "Borna Coric",
          "Fernando Verdasco",
          "Donald Young",
          "Denis Istomin",
          "Bernard Tomic",
          "Alexandr Dolgopolov",
          "Julien Benneteau",
          "Fabio Fognini",
          "Nicolas Almagro",
          "Jerzy Janowicz",
          "Benoit Paire",
          "Andreas Seppi",
          "Jiri Vesely",
          "Lukas Rosol",
          "Philipp Kohlschreiber",
          "Tommy Robredo",
          "Nicolas Mahut",
          "Pablo Carreno Busta",
          "Marcos Baghdatis",
          "Jeremy Chardy",
          "Dudi Sela",
          "Dustin Brown",
          "Horacio Zeballos",
          "Andrey Kuznetsov",
          "Karen Khachanov",
          "Juan Martin Del Potro",
          "Jan Lennard Struff",
          "Aljaz Bedene",
          "Andrey Rublev",
          "Kyle Edmund",
          "Mikhail Kukushkin",
          "Radek Stepanek",
          "Guido Pella",
          "Leonardo Mayer",
          "Adrian Mannarino",
          "Dusan Lajovic",
          "Pablo Cuevas",
          "Robin Haase",
          "Sergiy Stakhovsky",
          "Ernests Gulbis"
         ],
         "xaxis": "x",
         "y": [
          0,
          0,
          0,
          0,
          0,
          0,
          0,
          0,
          0,
          0,
          0,
          0,
          0,
          0,
          0,
          0,
          0,
          0,
          0,
          0,
          0,
          0,
          0,
          0,
          1.1102230246251563e-16,
          3.3306690738754696e-16,
          5.9952043329758445e-15,
          2.0483614804334138e-13,
          2.825628619973486e-12,
          5.350497822576017e-12,
          2.9586733063524657e-10,
          8.630519632291112e-10,
          1.3091444595048072e-9,
          4.7851019813194284e-9,
          6.642868699557881e-9,
          8.542586527049423e-9,
          8.854818767112249e-9,
          1.1927660525934414e-8,
          1.5757697813256755e-8,
          2.1218384826937612e-8,
          3.671333759225348e-8,
          1.08967925127601e-7,
          1.4849577578690545e-7,
          1.69289075646617e-7,
          2.556545046772385e-7,
          2.8730362922058106e-7,
          3.825202649077042e-7,
          4.003154642218121e-7,
          4.2457992766031794e-7,
          4.906624357925438e-7,
          9.177571927976302e-7,
          0.000001154835813754751,
          0.000001506480061141957,
          0.0000037201971019307214,
          0.00002118263573558377,
          0.000027133649023070028,
          0.000030514201594833423,
          0.00004127590311397977,
          0.00005142332956431517,
          0.00007077343025019278,
          0.00007950796618860778,
          0.0001068829627495,
          0.0001253155826226,
          0.0001490045143455,
          0.0001905869074646,
          0.0003009640488197,
          0.0003017379841254,
          0.0003825338728387,
          0.0003866162408353,
          0.000398695957383
         ],
         "yaxis": "y"
        },
        {
         "alignmentgroup": "True",
         "hovertemplate": "Significant=No<br>Player=%{x}<br>p-val=%{y}<extra></extra>",
         "legendgroup": "No",
         "marker": {
          "color": "#EF553B"
         },
         "name": "No",
         "offsetgroup": "No",
         "orientation": "v",
         "showlegend": true,
         "textposition": "auto",
         "type": "bar",
         "x": [
          "Steve Darcis",
          "Juan Monaco",
          "Daniel Evans",
          "John Millman",
          "Thomaz Bellucci",
          "Nikoloz Basilashvili",
          "Ruben Bemelmans",
          "Ryan Harrison",
          "Denis Shapovalov",
          "Viktor Troicki",
          "Mischa Zverev",
          "Damir Dzumhur",
          "Federico Delbonis",
          "Daniil Medvedev",
          "Yuichi Sugita",
          "Martin Klizan",
          "Jared Donaldson",
          "Hyeon Chung",
          "Yen Hsun Lu",
          "Florian Mayer",
          "Simone Bolelli",
          "Darian King",
          "Tommy Haas",
          "Yoshihito Nishioka",
          "Filip Krajinovic",
          "Albert Ramos",
          "Andrej Martin",
          "Peter Gojowczyk",
          "Marton Fucsovics",
          "Diego Sebastian Schwartzman",
          "Taylor Harry Fritz"
         ],
         "xaxis": "x",
         "y": [
          0.0005098381115004,
          0.0005138752957974,
          0.0005848736139782,
          0.0006265221130644,
          0.0012737897530789,
          0.0012893850633243,
          0.0016805828969282,
          0.0018237646731497,
          0.0025810160737155,
          0.0031937739230321,
          0.0118206587155885,
          0.0197623771982281,
          0.0233444252213839,
          0.0344662292796645,
          0.0376691727780603,
          0.0379208021967143,
          0.0393802946122862,
          0.0426480496875759,
          0.0546461936651879,
          0.0896581897120055,
          0.1068130071067561,
          0.1299479924088893,
          0.2212004901478137,
          0.2301562633690147,
          0.2576741543839961,
          0.2625512553807989,
          0.3830046332274766,
          0.5359044562512949,
          0.6129344104979821,
          null,
          null
         ],
         "yaxis": "y"
        }
       ],
       "layout": {
        "barmode": "relative",
        "legend": {
         "title": {
          "text": "Significant"
         },
         "tracegroupgap": 0
        },
        "margin": {
         "t": 60
        },
        "template": {
         "data": {
          "bar": [
           {
            "error_x": {
             "color": "#2a3f5f"
            },
            "error_y": {
             "color": "#2a3f5f"
            },
            "marker": {
             "line": {
              "color": "#E5ECF6",
              "width": 0.5
             }
            },
            "type": "bar"
           }
          ],
          "barpolar": [
           {
            "marker": {
             "line": {
              "color": "#E5ECF6",
              "width": 0.5
             }
            },
            "type": "barpolar"
           }
          ],
          "carpet": [
           {
            "aaxis": {
             "endlinecolor": "#2a3f5f",
             "gridcolor": "white",
             "linecolor": "white",
             "minorgridcolor": "white",
             "startlinecolor": "#2a3f5f"
            },
            "baxis": {
             "endlinecolor": "#2a3f5f",
             "gridcolor": "white",
             "linecolor": "white",
             "minorgridcolor": "white",
             "startlinecolor": "#2a3f5f"
            },
            "type": "carpet"
           }
          ],
          "choropleth": [
           {
            "colorbar": {
             "outlinewidth": 0,
             "ticks": ""
            },
            "type": "choropleth"
           }
          ],
          "contour": [
           {
            "colorbar": {
             "outlinewidth": 0,
             "ticks": ""
            },
            "colorscale": [
             [
              0,
              "#0d0887"
             ],
             [
              0.1111111111111111,
              "#46039f"
             ],
             [
              0.2222222222222222,
              "#7201a8"
             ],
             [
              0.3333333333333333,
              "#9c179e"
             ],
             [
              0.4444444444444444,
              "#bd3786"
             ],
             [
              0.5555555555555556,
              "#d8576b"
             ],
             [
              0.6666666666666666,
              "#ed7953"
             ],
             [
              0.7777777777777778,
              "#fb9f3a"
             ],
             [
              0.8888888888888888,
              "#fdca26"
             ],
             [
              1,
              "#f0f921"
             ]
            ],
            "type": "contour"
           }
          ],
          "contourcarpet": [
           {
            "colorbar": {
             "outlinewidth": 0,
             "ticks": ""
            },
            "type": "contourcarpet"
           }
          ],
          "heatmap": [
           {
            "colorbar": {
             "outlinewidth": 0,
             "ticks": ""
            },
            "colorscale": [
             [
              0,
              "#0d0887"
             ],
             [
              0.1111111111111111,
              "#46039f"
             ],
             [
              0.2222222222222222,
              "#7201a8"
             ],
             [
              0.3333333333333333,
              "#9c179e"
             ],
             [
              0.4444444444444444,
              "#bd3786"
             ],
             [
              0.5555555555555556,
              "#d8576b"
             ],
             [
              0.6666666666666666,
              "#ed7953"
             ],
             [
              0.7777777777777778,
              "#fb9f3a"
             ],
             [
              0.8888888888888888,
              "#fdca26"
             ],
             [
              1,
              "#f0f921"
             ]
            ],
            "type": "heatmap"
           }
          ],
          "heatmapgl": [
           {
            "colorbar": {
             "outlinewidth": 0,
             "ticks": ""
            },
            "colorscale": [
             [
              0,
              "#0d0887"
             ],
             [
              0.1111111111111111,
              "#46039f"
             ],
             [
              0.2222222222222222,
              "#7201a8"
             ],
             [
              0.3333333333333333,
              "#9c179e"
             ],
             [
              0.4444444444444444,
              "#bd3786"
             ],
             [
              0.5555555555555556,
              "#d8576b"
             ],
             [
              0.6666666666666666,
              "#ed7953"
             ],
             [
              0.7777777777777778,
              "#fb9f3a"
             ],
             [
              0.8888888888888888,
              "#fdca26"
             ],
             [
              1,
              "#f0f921"
             ]
            ],
            "type": "heatmapgl"
           }
          ],
          "histogram": [
           {
            "marker": {
             "colorbar": {
              "outlinewidth": 0,
              "ticks": ""
             }
            },
            "type": "histogram"
           }
          ],
          "histogram2d": [
           {
            "colorbar": {
             "outlinewidth": 0,
             "ticks": ""
            },
            "colorscale": [
             [
              0,
              "#0d0887"
             ],
             [
              0.1111111111111111,
              "#46039f"
             ],
             [
              0.2222222222222222,
              "#7201a8"
             ],
             [
              0.3333333333333333,
              "#9c179e"
             ],
             [
              0.4444444444444444,
              "#bd3786"
             ],
             [
              0.5555555555555556,
              "#d8576b"
             ],
             [
              0.6666666666666666,
              "#ed7953"
             ],
             [
              0.7777777777777778,
              "#fb9f3a"
             ],
             [
              0.8888888888888888,
              "#fdca26"
             ],
             [
              1,
              "#f0f921"
             ]
            ],
            "type": "histogram2d"
           }
          ],
          "histogram2dcontour": [
           {
            "colorbar": {
             "outlinewidth": 0,
             "ticks": ""
            },
            "colorscale": [
             [
              0,
              "#0d0887"
             ],
             [
              0.1111111111111111,
              "#46039f"
             ],
             [
              0.2222222222222222,
              "#7201a8"
             ],
             [
              0.3333333333333333,
              "#9c179e"
             ],
             [
              0.4444444444444444,
              "#bd3786"
             ],
             [
              0.5555555555555556,
              "#d8576b"
             ],
             [
              0.6666666666666666,
              "#ed7953"
             ],
             [
              0.7777777777777778,
              "#fb9f3a"
             ],
             [
              0.8888888888888888,
              "#fdca26"
             ],
             [
              1,
              "#f0f921"
             ]
            ],
            "type": "histogram2dcontour"
           }
          ],
          "mesh3d": [
           {
            "colorbar": {
             "outlinewidth": 0,
             "ticks": ""
            },
            "type": "mesh3d"
           }
          ],
          "parcoords": [
           {
            "line": {
             "colorbar": {
              "outlinewidth": 0,
              "ticks": ""
             }
            },
            "type": "parcoords"
           }
          ],
          "pie": [
           {
            "automargin": true,
            "type": "pie"
           }
          ],
          "scatter": [
           {
            "marker": {
             "colorbar": {
              "outlinewidth": 0,
              "ticks": ""
             }
            },
            "type": "scatter"
           }
          ],
          "scatter3d": [
           {
            "line": {
             "colorbar": {
              "outlinewidth": 0,
              "ticks": ""
             }
            },
            "marker": {
             "colorbar": {
              "outlinewidth": 0,
              "ticks": ""
             }
            },
            "type": "scatter3d"
           }
          ],
          "scattercarpet": [
           {
            "marker": {
             "colorbar": {
              "outlinewidth": 0,
              "ticks": ""
             }
            },
            "type": "scattercarpet"
           }
          ],
          "scattergeo": [
           {
            "marker": {
             "colorbar": {
              "outlinewidth": 0,
              "ticks": ""
             }
            },
            "type": "scattergeo"
           }
          ],
          "scattergl": [
           {
            "marker": {
             "colorbar": {
              "outlinewidth": 0,
              "ticks": ""
             }
            },
            "type": "scattergl"
           }
          ],
          "scattermapbox": [
           {
            "marker": {
             "colorbar": {
              "outlinewidth": 0,
              "ticks": ""
             }
            },
            "type": "scattermapbox"
           }
          ],
          "scatterpolar": [
           {
            "marker": {
             "colorbar": {
              "outlinewidth": 0,
              "ticks": ""
             }
            },
            "type": "scatterpolar"
           }
          ],
          "scatterpolargl": [
           {
            "marker": {
             "colorbar": {
              "outlinewidth": 0,
              "ticks": ""
             }
            },
            "type": "scatterpolargl"
           }
          ],
          "scatterternary": [
           {
            "marker": {
             "colorbar": {
              "outlinewidth": 0,
              "ticks": ""
             }
            },
            "type": "scatterternary"
           }
          ],
          "surface": [
           {
            "colorbar": {
             "outlinewidth": 0,
             "ticks": ""
            },
            "colorscale": [
             [
              0,
              "#0d0887"
             ],
             [
              0.1111111111111111,
              "#46039f"
             ],
             [
              0.2222222222222222,
              "#7201a8"
             ],
             [
              0.3333333333333333,
              "#9c179e"
             ],
             [
              0.4444444444444444,
              "#bd3786"
             ],
             [
              0.5555555555555556,
              "#d8576b"
             ],
             [
              0.6666666666666666,
              "#ed7953"
             ],
             [
              0.7777777777777778,
              "#fb9f3a"
             ],
             [
              0.8888888888888888,
              "#fdca26"
             ],
             [
              1,
              "#f0f921"
             ]
            ],
            "type": "surface"
           }
          ],
          "table": [
           {
            "cells": {
             "fill": {
              "color": "#EBF0F8"
             },
             "line": {
              "color": "white"
             }
            },
            "header": {
             "fill": {
              "color": "#C8D4E3"
             },
             "line": {
              "color": "white"
             }
            },
            "type": "table"
           }
          ]
         },
         "layout": {
          "annotationdefaults": {
           "arrowcolor": "#2a3f5f",
           "arrowhead": 0,
           "arrowwidth": 1
          },
          "autotypenumbers": "strict",
          "coloraxis": {
           "colorbar": {
            "outlinewidth": 0,
            "ticks": ""
           }
          },
          "colorscale": {
           "diverging": [
            [
             0,
             "#8e0152"
            ],
            [
             0.1,
             "#c51b7d"
            ],
            [
             0.2,
             "#de77ae"
            ],
            [
             0.3,
             "#f1b6da"
            ],
            [
             0.4,
             "#fde0ef"
            ],
            [
             0.5,
             "#f7f7f7"
            ],
            [
             0.6,
             "#e6f5d0"
            ],
            [
             0.7,
             "#b8e186"
            ],
            [
             0.8,
             "#7fbc41"
            ],
            [
             0.9,
             "#4d9221"
            ],
            [
             1,
             "#276419"
            ]
           ],
           "sequential": [
            [
             0,
             "#0d0887"
            ],
            [
             0.1111111111111111,
             "#46039f"
            ],
            [
             0.2222222222222222,
             "#7201a8"
            ],
            [
             0.3333333333333333,
             "#9c179e"
            ],
            [
             0.4444444444444444,
             "#bd3786"
            ],
            [
             0.5555555555555556,
             "#d8576b"
            ],
            [
             0.6666666666666666,
             "#ed7953"
            ],
            [
             0.7777777777777778,
             "#fb9f3a"
            ],
            [
             0.8888888888888888,
             "#fdca26"
            ],
            [
             1,
             "#f0f921"
            ]
           ],
           "sequentialminus": [
            [
             0,
             "#0d0887"
            ],
            [
             0.1111111111111111,
             "#46039f"
            ],
            [
             0.2222222222222222,
             "#7201a8"
            ],
            [
             0.3333333333333333,
             "#9c179e"
            ],
            [
             0.4444444444444444,
             "#bd3786"
            ],
            [
             0.5555555555555556,
             "#d8576b"
            ],
            [
             0.6666666666666666,
             "#ed7953"
            ],
            [
             0.7777777777777778,
             "#fb9f3a"
            ],
            [
             0.8888888888888888,
             "#fdca26"
            ],
            [
             1,
             "#f0f921"
            ]
           ]
          },
          "colorway": [
           "#636efa",
           "#EF553B",
           "#00cc96",
           "#ab63fa",
           "#FFA15A",
           "#19d3f3",
           "#FF6692",
           "#B6E880",
           "#FF97FF",
           "#FECB52"
          ],
          "font": {
           "color": "#2a3f5f"
          },
          "geo": {
           "bgcolor": "white",
           "lakecolor": "white",
           "landcolor": "#E5ECF6",
           "showlakes": true,
           "showland": true,
           "subunitcolor": "white"
          },
          "hoverlabel": {
           "align": "left"
          },
          "hovermode": "closest",
          "mapbox": {
           "style": "light"
          },
          "paper_bgcolor": "white",
          "plot_bgcolor": "#E5ECF6",
          "polar": {
           "angularaxis": {
            "gridcolor": "white",
            "linecolor": "white",
            "ticks": ""
           },
           "bgcolor": "#E5ECF6",
           "radialaxis": {
            "gridcolor": "white",
            "linecolor": "white",
            "ticks": ""
           }
          },
          "scene": {
           "xaxis": {
            "backgroundcolor": "#E5ECF6",
            "gridcolor": "white",
            "gridwidth": 2,
            "linecolor": "white",
            "showbackground": true,
            "ticks": "",
            "zerolinecolor": "white"
           },
           "yaxis": {
            "backgroundcolor": "#E5ECF6",
            "gridcolor": "white",
            "gridwidth": 2,
            "linecolor": "white",
            "showbackground": true,
            "ticks": "",
            "zerolinecolor": "white"
           },
           "zaxis": {
            "backgroundcolor": "#E5ECF6",
            "gridcolor": "white",
            "gridwidth": 2,
            "linecolor": "white",
            "showbackground": true,
            "ticks": "",
            "zerolinecolor": "white"
           }
          },
          "shapedefaults": {
           "line": {
            "color": "#2a3f5f"
           }
          },
          "ternary": {
           "aaxis": {
            "gridcolor": "white",
            "linecolor": "white",
            "ticks": ""
           },
           "baxis": {
            "gridcolor": "white",
            "linecolor": "white",
            "ticks": ""
           },
           "bgcolor": "#E5ECF6",
           "caxis": {
            "gridcolor": "white",
            "linecolor": "white",
            "ticks": ""
           }
          },
          "title": {
           "x": 0.05
          },
          "xaxis": {
           "automargin": true,
           "gridcolor": "white",
           "linecolor": "white",
           "ticks": "",
           "title": {
            "standoff": 15
           },
           "zerolinecolor": "white",
           "zerolinewidth": 2
          },
          "yaxis": {
           "automargin": true,
           "gridcolor": "white",
           "linecolor": "white",
           "ticks": "",
           "title": {
            "standoff": 15
           },
           "zerolinecolor": "white",
           "zerolinewidth": 2
          }
         }
        },
        "xaxis": {
         "anchor": "y",
         "domain": [
          0,
          1
         ],
         "title": {
          "text": "Player"
         }
        },
        "yaxis": {
         "anchor": "x",
         "domain": [
          0,
          1
         ],
         "title": {
          "text": "p-val"
         }
        }
       }
      }
     },
     "metadata": {},
     "output_type": "display_data"
    }
   ],
   "source": [
    "strks_pts_sorted = strks_pts.sort_values('p-val')\n",
    "fig = px.bar(strks_pts_sorted, x='Player', y='p-val', color='Significant')\n",
    "#fig.update_xaxes(visible=False, showticklabels=True)\n",
    "fig.show()"
   ]
  },
  {
   "cell_type": "code",
   "execution_count": 8,
   "metadata": {},
   "outputs": [
    {
     "data": {
      "image/png": "[encoded data removed]",
      "text/plain": "<Figure size 432x288 with 1 Axes>"
     },
     "metadata": {
      "needs_background": "dark"
     },
     "output_type": "display_data"
    }
   ],
   "source": [
    "federer_data = pickle.load(open('federer_data.sav', 'rb'))\n",
    "mu = federer_data['mu']\n",
    "sig = federer_data['sig']\n",
    "counts = federer_data['counts']\n",
    "kmax = federer_data['kmax']\n",
    "\n",
    "fig,ax = plt.subplots()\n",
    "kvals = 1+np.arange(kmax)\n",
    "ax.bar(kvals,mu[:kmax],alpha=0.3,color='g',yerr=sig[:kmax], ecolor='g')\n",
    "ax.set_xticks(kvals)\n",
    "ax.set_xlim(0,kmax)\n",
    "if not False:\n",
    "    ax.plot(kvals,counts[:kmax],'kd')\n",
    "ax.set_xlabel('Streak Lengths')\n",
    "ax.set_ylabel('Number of Streaks')\n",
    "\n",
    "#ax.set_title(\"Federer Streak Distribution\")\n",
    "ax.spines['bottom'].set_color('white')\n",
    "ax.xaxis.label.set_color('white')\n",
    "ax.yaxis.label.set_color('white')\n",
    "ax.tick_params(axis='x', colors='white')\n",
    "ax.tick_params(axis='y', colors='white')\n",
    "\n",
    "plt.savefig('plots/Federer_Plot.png')"
   ]
  },
  {
   "cell_type": "code",
   "execution_count": 29,
   "metadata": {},
   "outputs": [
    {
     "data": {
      "application/vnd.plotly.v1+json": {
       "config": {
        "plotlyServerURL": "https://plot.ly"
       },
       "data": [
        {
         "customdata": [
          [
           "Roger Federer"
          ],
          [
           "Novak Djokovic"
          ],
          [
           "Andy Murray"
          ],
          [
           "Rafael Nadal"
          ],
          [
           "Juan Martin Del Potro"
          ],
          [
           "Stan Wawrinka"
          ],
          [
           "Grigor Dimitrov"
          ],
          [
           "Kei Nishikori"
          ],
          [
           "Milos Raonic"
          ],
          [
           "David Goffin"
          ],
          [
           "Alexander Zverev"
          ],
          [
           "Marin Cilic"
          ],
          [
           "Tomas Berdych"
          ],
          [
           "Jo Wilfried Tsonga"
          ],
          [
           "Nick Kyrgios"
          ],
          [
           "Roberto Bautista Agut"
          ],
          [
           "Gael Monfils"
          ],
          [
           "Dominic Thiem"
          ],
          [
           "Jack Sock"
          ],
          [
           "Richard Gasquet"
          ],
          [
           "John Isner"
          ],
          [
           "Kevin Anderson"
          ],
          [
           "Gilles Muller"
          ],
          [
           "Philipp Kohlschreiber"
          ],
          [
           "Lucas Pouille"
          ],
          [
           "Fabio Fognini"
          ],
          [
           "Sam Querrey"
          ],
          [
           "David Ferrer"
          ],
          [
           "Adrian Mannarino"
          ],
          [
           "Feliciano Lopez"
          ],
          [
           "Pablo Carreno Busta"
          ],
          [
           "Alexandr Dolgopolov"
          ],
          [
           "Fernando Verdasco"
          ],
          [
           "Steve Johnson"
          ],
          [
           "Marcos Baghdatis"
          ],
          [
           "Kyle Edmund"
          ],
          [
           "Leonardo Mayer"
          ],
          [
           "Julien Benneteau"
          ],
          [
           "Nicolas Almagro"
          ],
          [
           "Borna Coric"
          ],
          [
           "Andrey Rublev"
          ],
          [
           "Radek Stepanek"
          ],
          [
           "Pablo Cuevas"
          ],
          [
           "Gilles Simon"
          ],
          [
           "Robin Haase"
          ],
          [
           "Donald Young"
          ],
          [
           "Jan Lennard Struff"
          ],
          [
           "Andreas Seppi"
          ],
          [
           "Andrey Kuznetsov"
          ],
          [
           "Jerzy Janowicz"
          ],
          [
           "Denis Istomin"
          ],
          [
           "Karen Khachanov"
          ],
          [
           "Ivo Karlovic"
          ],
          [
           "Benoit Paire"
          ],
          [
           "Jeremy Chardy"
          ],
          [
           "Nicolas Mahut"
          ],
          [
           "Tommy Robredo"
          ],
          [
           "Jiri Vesely"
          ],
          [
           "Guido Pella"
          ],
          [
           "Aljaz Bedene"
          ],
          [
           "Mikhail Kukushkin"
          ],
          [
           "Bernard Tomic"
          ],
          [
           "Horacio Zeballos"
          ],
          [
           "Ernests Gulbis"
          ],
          [
           "Dudi Sela"
          ],
          [
           "Dustin Brown"
          ],
          [
           "Lukas Rosol"
          ],
          [
           "Dusan Lajovic"
          ],
          [
           "Vasek Pospisil"
          ],
          [
           "Sergiy Stakhovsky"
          ]
         ],
         "hovertemplate": "Significant=Yes<br>Elo=%{x}<br>chi2=%{y}<br>size=%{marker.size}<br>name=%{customdata[0]}<extra></extra>",
         "legendgroup": "Yes",
         "marker": {
          "color": "#636efa",
          "size": [
           5,
           5,
           5,
           5,
           5,
           5,
           5,
           5,
           5,
           5,
           5,
           5,
           5,
           5,
           5,
           5,
           5,
           5,
           5,
           5,
           5,
           5,
           5,
           5,
           5,
           5,
           5,
           5,
           5,
           5,
           5,
           5,
           5,
           5,
           5,
           5,
           5,
           5,
           5,
           5,
           5,
           5,
           5,
           5,
           5,
           5,
           5,
           5,
           5,
           5,
           5,
           5,
           5,
           5,
           5,
           5,
           5,
           5,
           5,
           5,
           5,
           5,
           5,
           5,
           5,
           5,
           5,
           5,
           5,
           5
          ],
          "sizemode": "area",
          "sizeref": 0.0125,
          "symbol": "circle"
         },
         "mode": "markers",
         "name": "Yes",
         "orientation": "v",
         "showlegend": true,
         "type": "scatter",
         "x": [
          2444,
          2418,
          2353,
          2350,
          2243,
          2207,
          2197,
          2185,
          2173,
          2165,
          2153,
          2143,
          2137,
          2119,
          2103,
          2100,
          2089,
          2082,
          2076,
          2068,
          2065,
          2055,
          2044,
          2042,
          2036,
          2032,
          2028,
          2027,
          2003,
          1997,
          1992,
          1989,
          1986,
          1976,
          1941,
          1941,
          1940,
          1932,
          1930,
          1928,
          1926,
          1926,
          1920,
          1914,
          1914,
          1912,
          1909,
          1904,
          1901,
          1899,
          1897,
          1897,
          1896,
          1892,
          1891,
          1889,
          1887,
          1886,
          1886,
          1885,
          1882,
          1876,
          1870,
          1867,
          1855,
          1854,
          1853,
          1851,
          1845,
          1843
         ],
         "xaxis": "x",
         "y": [
          417.6722166579864,
          425.5920143489876,
          389.3387430307612,
          265.19165799302755,
          46.08704360702914,
          223.8300553505281,
          153.39880125959084,
          226.74172883082727,
          282.29338314148174,
          91.41582708942704,
          128.6171536302778,
          191.23090606464405,
          234.3728735950007,
          129.34326010569447,
          189.688971142026,
          109.99246913173435,
          120.0066348790473,
          132.10040474759867,
          106.28995219548231,
          114.250627530305,
          198.70585108769703,
          166.8131907528371,
          124.11877781754956,
          58.06372162342083,
          111.44465487959204,
          65.60508565451013,
          150.5983699326563,
          110.18611535554052,
          40.80926270178259,
          131.40982777425936,
          56.94211960114053,
          66.41487111164847,
          71.9249908977674,
          99.4891595366467,
          56.79453858143252,
          43.51775823902511,
          41.48784798612887,
          66.32788025448289,
          64.92794676007841,
          74.47082703667785,
          44.37895980800176,
          42.39778704074419,
          39.53163728782221,
          85.36631898605826,
          38.8659475716693,
          70.9296910430435,
          45.7748387564272,
          60.18281854369656,
          51.28060042033289,
          64.20280483618725,
          67.81614771374323,
          46.743261878292856,
          154.71233834056207,
          62.86201751859859,
          56.43136482908487,
          57.05609193302893,
          57.77230119983735,
          59.41574436023,
          41.96288958411282,
          44.96854100316231,
          43.202585447703896,
          67.02372944098126,
          53.59487040705508,
          38.74940476272285,
          54.8525710744528,
          54.27037246058336,
          59.09026136078116,
          39.53882031203913,
          83.8847602724838,
          38.83606431732463
         ],
         "yaxis": "y"
        },
        {
         "customdata": [
          [
           "Diego Sebastian Schwartzman"
          ],
          [
           "Damir Dzumhur"
          ],
          [
           "Albert Ramos"
          ],
          [
           "Hyeon Chung"
          ],
          [
           "Mischa Zverev"
          ],
          [
           "Viktor Troicki"
          ],
          [
           "Juan Monaco"
          ],
          [
           "Federico Delbonis"
          ],
          [
           "Ryan Harrison"
          ],
          [
           "Yuichi Sugita"
          ],
          [
           "Jared Donaldson"
          ],
          [
           "Steve Darcis"
          ],
          [
           "Florian Mayer"
          ],
          [
           "Peter Gojowczyk"
          ],
          [
           "Daniel Evans"
          ],
          [
           "John Millman"
          ],
          [
           "Yoshihito Nishioka"
          ],
          [
           "Denis Shapovalov"
          ],
          [
           "Daniil Medvedev"
          ],
          [
           "Simone Bolelli"
          ],
          [
           "Martin Klizan"
          ],
          [
           "Taylor Harry Fritz"
          ],
          [
           "Marton Fucsovics"
          ],
          [
           "Ruben Bemelmans"
          ],
          [
           "Nikoloz Basilashvili"
          ],
          [
           "Darian King"
          ],
          [
           "Filip Krajinovic"
          ],
          [
           "Thomaz Bellucci"
          ],
          [
           "Yen Hsun Lu"
          ],
          [
           "Tommy Haas"
          ],
          [
           "Andrej Martin"
          ]
         ],
         "hovertemplate": "Significant=No<br>Elo=%{x}<br>chi2=%{y}<br>size=%{marker.size}<br>name=%{customdata[0]}<extra></extra>",
         "legendgroup": "No",
         "marker": {
          "color": "#EF553B",
          "size": [
           5,
           5,
           5,
           5,
           5,
           5,
           5,
           5,
           5,
           5,
           5,
           5,
           5,
           5,
           5,
           5,
           5,
           5,
           5,
           5,
           5,
           5,
           5,
           5,
           5,
           5,
           5,
           5,
           5,
           5,
           5
          ],
          "sizemode": "area",
          "sizeref": 0.0125,
          "symbol": "circle"
         },
         "mode": "markers",
         "name": "No",
         "orientation": "v",
         "showlegend": true,
         "type": "scatter",
         "x": [
          2019,
          1993,
          1944,
          1943,
          1931,
          1929,
          1922,
          1910,
          1908,
          1905,
          1902,
          1902,
          1899,
          1893,
          1886,
          1883,
          1876,
          1875,
          1857,
          1856,
          1856,
          1854,
          1853,
          1850,
          1847,
          1846,
          1842,
          1834,
          1832,
          1831,
          1830
         ],
         "xaxis": "x",
         "y": [
          null,
          26.91278739005011,
          16.881436105777045,
          24.25727129745229,
          28.602981430952223,
          32.68889435584947,
          38.0317512491605,
          26.351779656920687,
          34.36465359670097,
          24.69793950177419,
          24.54084264704493,
          38.05413306730048,
          21.49262954922255,
          12.881127536208991,
          37.66378186516612,
          37.4676248461079,
          17.50717137579743,
          33.33044352012751,
          25.010261006704745,
          20.80208072035024,
          24.67443685572773,
          null,
          11.917422319508733,
          34.606156260297304,
          35.383922454343335,
          20.006138953457395,
          16.971979567848845,
          35.419466765190954,
          23.36080743123205,
          17.6913788565838,
          14.929300984326431
         ],
         "yaxis": "y"
        }
       ],
       "layout": {
        "legend": {
         "itemsizing": "constant",
         "title": {
          "text": "Significant"
         },
         "tracegroupgap": 0
        },
        "margin": {
         "t": 60
        },
        "template": {
         "data": {
          "bar": [
           {
            "error_x": {
             "color": "#2a3f5f"
            },
            "error_y": {
             "color": "#2a3f5f"
            },
            "marker": {
             "line": {
              "color": "#E5ECF6",
              "width": 0.5
             }
            },
            "type": "bar"
           }
          ],
          "barpolar": [
           {
            "marker": {
             "line": {
              "color": "#E5ECF6",
              "width": 0.5
             }
            },
            "type": "barpolar"
           }
          ],
          "carpet": [
           {
            "aaxis": {
             "endlinecolor": "#2a3f5f",
             "gridcolor": "white",
             "linecolor": "white",
             "minorgridcolor": "white",
             "startlinecolor": "#2a3f5f"
            },
            "baxis": {
             "endlinecolor": "#2a3f5f",
             "gridcolor": "white",
             "linecolor": "white",
             "minorgridcolor": "white",
             "startlinecolor": "#2a3f5f"
            },
            "type": "carpet"
           }
          ],
          "choropleth": [
           {
            "colorbar": {
             "outlinewidth": 0,
             "ticks": ""
            },
            "type": "choropleth"
           }
          ],
          "contour": [
           {
            "colorbar": {
             "outlinewidth": 0,
             "ticks": ""
            },
            "colorscale": [
             [
              0,
              "#0d0887"
             ],
             [
              0.1111111111111111,
              "#46039f"
             ],
             [
              0.2222222222222222,
              "#7201a8"
             ],
             [
              0.3333333333333333,
              "#9c179e"
             ],
             [
              0.4444444444444444,
              "#bd3786"
             ],
             [
              0.5555555555555556,
              "#d8576b"
             ],
             [
              0.6666666666666666,
              "#ed7953"
             ],
             [
              0.7777777777777778,
              "#fb9f3a"
             ],
             [
              0.8888888888888888,
              "#fdca26"
             ],
             [
              1,
              "#f0f921"
             ]
            ],
            "type": "contour"
           }
          ],
          "contourcarpet": [
           {
            "colorbar": {
             "outlinewidth": 0,
             "ticks": ""
            },
            "type": "contourcarpet"
           }
          ],
          "heatmap": [
           {
            "colorbar": {
             "outlinewidth": 0,
             "ticks": ""
            },
            "colorscale": [
             [
              0,
              "#0d0887"
             ],
             [
              0.1111111111111111,
              "#46039f"
             ],
             [
              0.2222222222222222,
              "#7201a8"
             ],
             [
              0.3333333333333333,
              "#9c179e"
             ],
             [
              0.4444444444444444,
              "#bd3786"
             ],
             [
              0.5555555555555556,
              "#d8576b"
             ],
             [
              0.6666666666666666,
              "#ed7953"
             ],
             [
              0.7777777777777778,
              "#fb9f3a"
             ],
             [
              0.8888888888888888,
              "#fdca26"
             ],
             [
              1,
              "#f0f921"
             ]
            ],
            "type": "heatmap"
           }
          ],
          "heatmapgl": [
           {
            "colorbar": {
             "outlinewidth": 0,
             "ticks": ""
            },
            "colorscale": [
             [
              0,
              "#0d0887"
             ],
             [
              0.1111111111111111,
              "#46039f"
             ],
             [
              0.2222222222222222,
              "#7201a8"
             ],
             [
              0.3333333333333333,
              "#9c179e"
             ],
             [
              0.4444444444444444,
              "#bd3786"
             ],
             [
              0.5555555555555556,
              "#d8576b"
             ],
             [
              0.6666666666666666,
              "#ed7953"
             ],
             [
              0.7777777777777778,
              "#fb9f3a"
             ],
             [
              0.8888888888888888,
              "#fdca26"
             ],
             [
              1,
              "#f0f921"
             ]
            ],
            "type": "heatmapgl"
           }
          ],
          "histogram": [
           {
            "marker": {
             "colorbar": {
              "outlinewidth": 0,
              "ticks": ""
             }
            },
            "type": "histogram"
           }
          ],
          "histogram2d": [
           {
            "colorbar": {
             "outlinewidth": 0,
             "ticks": ""
            },
            "colorscale": [
             [
              0,
              "#0d0887"
             ],
             [
              0.1111111111111111,
              "#46039f"
             ],
             [
              0.2222222222222222,
              "#7201a8"
             ],
             [
              0.3333333333333333,
              "#9c179e"
             ],
             [
              0.4444444444444444,
              "#bd3786"
             ],
             [
              0.5555555555555556,
              "#d8576b"
             ],
             [
              0.6666666666666666,
              "#ed7953"
             ],
             [
              0.7777777777777778,
              "#fb9f3a"
             ],
             [
              0.8888888888888888,
              "#fdca26"
             ],
             [
              1,
              "#f0f921"
             ]
            ],
            "type": "histogram2d"
           }
          ],
          "histogram2dcontour": [
           {
            "colorbar": {
             "outlinewidth": 0,
             "ticks": ""
            },
            "colorscale": [
             [
              0,
              "#0d0887"
             ],
             [
              0.1111111111111111,
              "#46039f"
             ],
             [
              0.2222222222222222,
              "#7201a8"
             ],
             [
              0.3333333333333333,
              "#9c179e"
             ],
             [
              0.4444444444444444,
              "#bd3786"
             ],
             [
              0.5555555555555556,
              "#d8576b"
             ],
             [
              0.6666666666666666,
              "#ed7953"
             ],
             [
              0.7777777777777778,
              "#fb9f3a"
             ],
             [
              0.8888888888888888,
              "#fdca26"
             ],
             [
              1,
              "#f0f921"
             ]
            ],
            "type": "histogram2dcontour"
           }
          ],
          "mesh3d": [
           {
            "colorbar": {
             "outlinewidth": 0,
             "ticks": ""
            },
            "type": "mesh3d"
           }
          ],
          "parcoords": [
           {
            "line": {
             "colorbar": {
              "outlinewidth": 0,
              "ticks": ""
             }
            },
            "type": "parcoords"
           }
          ],
          "pie": [
           {
            "automargin": true,
            "type": "pie"
           }
          ],
          "scatter": [
           {
            "marker": {
             "colorbar": {
              "outlinewidth": 0,
              "ticks": ""
             }
            },
            "type": "scatter"
           }
          ],
          "scatter3d": [
           {
            "line": {
             "colorbar": {
              "outlinewidth": 0,
              "ticks": ""
             }
            },
            "marker": {
             "colorbar": {
              "outlinewidth": 0,
              "ticks": ""
             }
            },
            "type": "scatter3d"
           }
          ],
          "scattercarpet": [
           {
            "marker": {
             "colorbar": {
              "outlinewidth": 0,
              "ticks": ""
             }
            },
            "type": "scattercarpet"
           }
          ],
          "scattergeo": [
           {
            "marker": {
             "colorbar": {
              "outlinewidth": 0,
              "ticks": ""
             }
            },
            "type": "scattergeo"
           }
          ],
          "scattergl": [
           {
            "marker": {
             "colorbar": {
              "outlinewidth": 0,
              "ticks": ""
             }
            },
            "type": "scattergl"
           }
          ],
          "scattermapbox": [
           {
            "marker": {
             "colorbar": {
              "outlinewidth": 0,
              "ticks": ""
             }
            },
            "type": "scattermapbox"
           }
          ],
          "scatterpolar": [
           {
            "marker": {
             "colorbar": {
              "outlinewidth": 0,
              "ticks": ""
             }
            },
            "type": "scatterpolar"
           }
          ],
          "scatterpolargl": [
           {
            "marker": {
             "colorbar": {
              "outlinewidth": 0,
              "ticks": ""
             }
            },
            "type": "scatterpolargl"
           }
          ],
          "scatterternary": [
           {
            "marker": {
             "colorbar": {
              "outlinewidth": 0,
              "ticks": ""
             }
            },
            "type": "scatterternary"
           }
          ],
          "surface": [
           {
            "colorbar": {
             "outlinewidth": 0,
             "ticks": ""
            },
            "colorscale": [
             [
              0,
              "#0d0887"
             ],
             [
              0.1111111111111111,
              "#46039f"
             ],
             [
              0.2222222222222222,
              "#7201a8"
             ],
             [
              0.3333333333333333,
              "#9c179e"
             ],
             [
              0.4444444444444444,
              "#bd3786"
             ],
             [
              0.5555555555555556,
              "#d8576b"
             ],
             [
              0.6666666666666666,
              "#ed7953"
             ],
             [
              0.7777777777777778,
              "#fb9f3a"
             ],
             [
              0.8888888888888888,
              "#fdca26"
             ],
             [
              1,
              "#f0f921"
             ]
            ],
            "type": "surface"
           }
          ],
          "table": [
           {
            "cells": {
             "fill": {
              "color": "#EBF0F8"
             },
             "line": {
              "color": "white"
             }
            },
            "header": {
             "fill": {
              "color": "#C8D4E3"
             },
             "line": {
              "color": "white"
             }
            },
            "type": "table"
           }
          ]
         },
         "layout": {
          "annotationdefaults": {
           "arrowcolor": "#2a3f5f",
           "arrowhead": 0,
           "arrowwidth": 1
          },
          "autotypenumbers": "strict",
          "coloraxis": {
           "colorbar": {
            "outlinewidth": 0,
            "ticks": ""
           }
          },
          "colorscale": {
           "diverging": [
            [
             0,
             "#8e0152"
            ],
            [
             0.1,
             "#c51b7d"
            ],
            [
             0.2,
             "#de77ae"
            ],
            [
             0.3,
             "#f1b6da"
            ],
            [
             0.4,
             "#fde0ef"
            ],
            [
             0.5,
             "#f7f7f7"
            ],
            [
             0.6,
             "#e6f5d0"
            ],
            [
             0.7,
             "#b8e186"
            ],
            [
             0.8,
             "#7fbc41"
            ],
            [
             0.9,
             "#4d9221"
            ],
            [
             1,
             "#276419"
            ]
           ],
           "sequential": [
            [
             0,
             "#0d0887"
            ],
            [
             0.1111111111111111,
             "#46039f"
            ],
            [
             0.2222222222222222,
             "#7201a8"
            ],
            [
             0.3333333333333333,
             "#9c179e"
            ],
            [
             0.4444444444444444,
             "#bd3786"
            ],
            [
             0.5555555555555556,
             "#d8576b"
            ],
            [
             0.6666666666666666,
             "#ed7953"
            ],
            [
             0.7777777777777778,
             "#fb9f3a"
            ],
            [
             0.8888888888888888,
             "#fdca26"
            ],
            [
             1,
             "#f0f921"
            ]
           ],
           "sequentialminus": [
            [
             0,
             "#0d0887"
            ],
            [
             0.1111111111111111,
             "#46039f"
            ],
            [
             0.2222222222222222,
             "#7201a8"
            ],
            [
             0.3333333333333333,
             "#9c179e"
            ],
            [
             0.4444444444444444,
             "#bd3786"
            ],
            [
             0.5555555555555556,
             "#d8576b"
            ],
            [
             0.6666666666666666,
             "#ed7953"
            ],
            [
             0.7777777777777778,
             "#fb9f3a"
            ],
            [
             0.8888888888888888,
             "#fdca26"
            ],
            [
             1,
             "#f0f921"
            ]
           ]
          },
          "colorway": [
           "#636efa",
           "#EF553B",
           "#00cc96",
           "#ab63fa",
           "#FFA15A",
           "#19d3f3",
           "#FF6692",
           "#B6E880",
           "#FF97FF",
           "#FECB52"
          ],
          "font": {
           "color": "#2a3f5f"
          },
          "geo": {
           "bgcolor": "white",
           "lakecolor": "white",
           "landcolor": "#E5ECF6",
           "showlakes": true,
           "showland": true,
           "subunitcolor": "white"
          },
          "hoverlabel": {
           "align": "left"
          },
          "hovermode": "closest",
          "mapbox": {
           "style": "light"
          },
          "paper_bgcolor": "white",
          "plot_bgcolor": "#E5ECF6",
          "polar": {
           "angularaxis": {
            "gridcolor": "white",
            "linecolor": "white",
            "ticks": ""
           },
           "bgcolor": "#E5ECF6",
           "radialaxis": {
            "gridcolor": "white",
            "linecolor": "white",
            "ticks": ""
           }
          },
          "scene": {
           "xaxis": {
            "backgroundcolor": "#E5ECF6",
            "gridcolor": "white",
            "gridwidth": 2,
            "linecolor": "white",
            "showbackground": true,
            "ticks": "",
            "zerolinecolor": "white"
           },
           "yaxis": {
            "backgroundcolor": "#E5ECF6",
            "gridcolor": "white",
            "gridwidth": 2,
            "linecolor": "white",
            "showbackground": true,
            "ticks": "",
            "zerolinecolor": "white"
           },
           "zaxis": {
            "backgroundcolor": "#E5ECF6",
            "gridcolor": "white",
            "gridwidth": 2,
            "linecolor": "white",
            "showbackground": true,
            "ticks": "",
            "zerolinecolor": "white"
           }
          },
          "shapedefaults": {
           "line": {
            "color": "#2a3f5f"
           }
          },
          "ternary": {
           "aaxis": {
            "gridcolor": "white",
            "linecolor": "white",
            "ticks": ""
           },
           "baxis": {
            "gridcolor": "white",
            "linecolor": "white",
            "ticks": ""
           },
           "bgcolor": "#E5ECF6",
           "caxis": {
            "gridcolor": "white",
            "linecolor": "white",
            "ticks": ""
           }
          },
          "title": {
           "x": 0.05
          },
          "xaxis": {
           "automargin": true,
           "gridcolor": "white",
           "linecolor": "white",
           "ticks": "",
           "title": {
            "standoff": 15
           },
           "zerolinecolor": "white",
           "zerolinewidth": 2
          },
          "yaxis": {
           "automargin": true,
           "gridcolor": "white",
           "linecolor": "white",
           "ticks": "",
           "title": {
            "standoff": 15
           },
           "zerolinecolor": "white",
           "zerolinewidth": 2
          }
         }
        },
        "xaxis": {
         "anchor": "y",
         "domain": [
          0,
          1
         ],
         "title": {
          "text": "Elo"
         }
        },
        "yaxis": {
         "anchor": "x",
         "domain": [
          0,
          1
         ],
         "title": {
          "text": "chi2"
         }
        }
       }
      }
     },
     "metadata": {},
     "output_type": "display_data"
    }
   ],
   "source": [
    "fig = px.scatter(strks_pts, x='Elo', y='chi2', color='Significant',\n",
    "                    hover_data=['name'], size=np.repeat(5,101))\n",
    "fig.show()"
   ]
  },
  {
   "cell_type": "code",
   "execution_count": 8,
   "metadata": {},
   "outputs": [
    {
     "data": {
      "text/html": "<div>\n<style scoped>\n    .dataframe tbody tr th:only-of-type {\n        vertical-align: middle;\n    }\n\n    .dataframe tbody tr th {\n        vertical-align: top;\n    }\n\n    .dataframe thead th {\n        text-align: right;\n    }\n</style>\n<table border=\"1\" class=\"dataframe\">\n  <thead>\n    <tr style=\"text-align: right;\">\n      <th></th>\n      <th>name</th>\n      <th>Player</th>\n      <th>kmax</th>\n      <th>chi2</th>\n      <th>p-val</th>\n    </tr>\n  </thead>\n  <tbody>\n    <tr>\n      <th>0</th>\n      <td>Roger Federer</td>\n      <td>Roger Federer</td>\n      <td>14.0</td>\n      <td>402.812037</td>\n      <td>0.000000e+00</td>\n    </tr>\n    <tr>\n      <th>1</th>\n      <td>Novak Djokovic</td>\n      <td>Novak Djokovic</td>\n      <td>13.0</td>\n      <td>399.664918</td>\n      <td>0.000000e+00</td>\n    </tr>\n    <tr>\n      <th>2</th>\n      <td>Andy Murray</td>\n      <td>Andy Murray</td>\n      <td>15.0</td>\n      <td>392.319272</td>\n      <td>0.000000e+00</td>\n    </tr>\n    <tr>\n      <th>3</th>\n      <td>Rafael Nadal</td>\n      <td>Rafael Nadal</td>\n      <td>15.0</td>\n      <td>265.890069</td>\n      <td>0.000000e+00</td>\n    </tr>\n    <tr>\n      <th>4</th>\n      <td>Juan Martin Del Potro</td>\n      <td>Juan Martin Del Potro</td>\n      <td>9.0</td>\n      <td>33.825160</td>\n      <td>4.369930e-05</td>\n    </tr>\n    <tr>\n      <th>5</th>\n      <td>Stan Wawrinka</td>\n      <td>Stan Wawrinka</td>\n      <td>12.0</td>\n      <td>202.685100</td>\n      <td>0.000000e+00</td>\n    </tr>\n    <tr>\n      <th>6</th>\n      <td>Grigor Dimitrov</td>\n      <td>Grigor Dimitrov</td>\n      <td>14.0</td>\n      <td>147.240056</td>\n      <td>0.000000e+00</td>\n    </tr>\n    <tr>\n      <th>7</th>\n      <td>Kei Nishikori</td>\n      <td>Kei Nishikori</td>\n      <td>10.0</td>\n      <td>189.474951</td>\n      <td>0.000000e+00</td>\n    </tr>\n    <tr>\n      <th>8</th>\n      <td>Milos Raonic</td>\n      <td>Milos Raonic</td>\n      <td>14.0</td>\n      <td>272.464996</td>\n      <td>0.000000e+00</td>\n    </tr>\n    <tr>\n      <th>9</th>\n      <td>David Goffin</td>\n      <td>David Goffin</td>\n      <td>14.0</td>\n      <td>84.340998</td>\n      <td>1.670886e-12</td>\n    </tr>\n    <tr>\n      <th>10</th>\n      <td>Alexander Zverev</td>\n      <td>Alexander Zverev</td>\n      <td>9.0</td>\n      <td>103.516065</td>\n      <td>0.000000e+00</td>\n    </tr>\n    <tr>\n      <th>11</th>\n      <td>Marin Cilic</td>\n      <td>Marin Cilic</td>\n      <td>12.0</td>\n      <td>174.415769</td>\n      <td>0.000000e+00</td>\n    </tr>\n    <tr>\n      <th>12</th>\n      <td>Tomas Berdych</td>\n      <td>Tomas Berdych</td>\n      <td>15.0</td>\n      <td>232.710137</td>\n      <td>0.000000e+00</td>\n    </tr>\n    <tr>\n      <th>13</th>\n      <td>Jo Wilfried Tsonga</td>\n      <td>Jo Wilfried Tsonga</td>\n      <td>11.0</td>\n      <td>114.464904</td>\n      <td>0.000000e+00</td>\n    </tr>\n    <tr>\n      <th>14</th>\n      <td>Nick Kyrgios</td>\n      <td>Nick Kyrgios</td>\n      <td>12.0</td>\n      <td>175.035397</td>\n      <td>0.000000e+00</td>\n    </tr>\n    <tr>\n      <th>15</th>\n      <td>Roberto Bautista Agut</td>\n      <td>Roberto Bautista Agut</td>\n      <td>13.0</td>\n      <td>102.103180</td>\n      <td>2.220446e-16</td>\n    </tr>\n    <tr>\n      <th>16</th>\n      <td>Gael Monfils</td>\n      <td>Gael Monfils</td>\n      <td>14.0</td>\n      <td>113.423852</td>\n      <td>0.000000e+00</td>\n    </tr>\n    <tr>\n      <th>17</th>\n      <td>Dominic Thiem</td>\n      <td>Dominic Thiem</td>\n      <td>14.0</td>\n      <td>128.087762</td>\n      <td>0.000000e+00</td>\n    </tr>\n    <tr>\n      <th>18</th>\n      <td>Jack Sock</td>\n      <td>Jack Sock</td>\n      <td>13.0</td>\n      <td>101.373908</td>\n      <td>3.330669e-16</td>\n    </tr>\n    <tr>\n      <th>19</th>\n      <td>Richard Gasquet</td>\n      <td>Richard Gasquet</td>\n      <td>12.0</td>\n      <td>103.605288</td>\n      <td>0.000000e+00</td>\n    </tr>\n    <tr>\n      <th>20</th>\n      <td>John Isner</td>\n      <td>John Isner</td>\n      <td>14.0</td>\n      <td>191.716965</td>\n      <td>0.000000e+00</td>\n    </tr>\n    <tr>\n      <th>21</th>\n      <td>Kevin Anderson</td>\n      <td>Kevin Anderson</td>\n      <td>12.0</td>\n      <td>154.235423</td>\n      <td>0.000000e+00</td>\n    </tr>\n    <tr>\n      <th>22</th>\n      <td>Gilles Muller</td>\n      <td>Gilles Muller</td>\n      <td>11.0</td>\n      <td>112.796268</td>\n      <td>0.000000e+00</td>\n    </tr>\n    <tr>\n      <th>23</th>\n      <td>Philipp Kohlschreiber</td>\n      <td>Philipp Kohlschreiber</td>\n      <td>11.0</td>\n      <td>50.282966</td>\n      <td>2.367553e-07</td>\n    </tr>\n    <tr>\n      <th>24</th>\n      <td>Lucas Pouille</td>\n      <td>Lucas Pouille</td>\n      <td>13.0</td>\n      <td>104.457233</td>\n      <td>1.110223e-16</td>\n    </tr>\n  </tbody>\n</table>\n</div>",
      "text/plain": "                     name                 Player  kmax        chi2  \\\n0           Roger Federer          Roger Federer  14.0  402.812037   \n1          Novak Djokovic         Novak Djokovic  13.0  399.664918   \n2             Andy Murray            Andy Murray  15.0  392.319272   \n3            Rafael Nadal           Rafael Nadal  15.0  265.890069   \n4   Juan Martin Del Potro  Juan Martin Del Potro   9.0   33.825160   \n5           Stan Wawrinka          Stan Wawrinka  12.0  202.685100   \n6         Grigor Dimitrov        Grigor Dimitrov  14.0  147.240056   \n7           Kei Nishikori          Kei Nishikori  10.0  189.474951   \n8            Milos Raonic           Milos Raonic  14.0  272.464996   \n9            David Goffin           David Goffin  14.0   84.340998   \n10       Alexander Zverev       Alexander Zverev   9.0  103.516065   \n11            Marin Cilic            Marin Cilic  12.0  174.415769   \n12          Tomas Berdych          Tomas Berdych  15.0  232.710137   \n13     Jo Wilfried Tsonga     Jo Wilfried Tsonga  11.0  114.464904   \n14           Nick Kyrgios           Nick Kyrgios  12.0  175.035397   \n15  Roberto Bautista Agut  Roberto Bautista Agut  13.0  102.103180   \n16           Gael Monfils           Gael Monfils  14.0  113.423852   \n17          Dominic Thiem          Dominic Thiem  14.0  128.087762   \n18              Jack Sock              Jack Sock  13.0  101.373908   \n19        Richard Gasquet        Richard Gasquet  12.0  103.605288   \n20             John Isner             John Isner  14.0  191.716965   \n21         Kevin Anderson         Kevin Anderson  12.0  154.235423   \n22          Gilles Muller          Gilles Muller  11.0  112.796268   \n23  Philipp Kohlschreiber  Philipp Kohlschreiber  11.0   50.282966   \n24          Lucas Pouille          Lucas Pouille  13.0  104.457233   \n\n           p-val  \n0   0.000000e+00  \n1   0.000000e+00  \n2   0.000000e+00  \n3   0.000000e+00  \n4   4.369930e-05  \n5   0.000000e+00  \n6   0.000000e+00  \n7   0.000000e+00  \n8   0.000000e+00  \n9   1.670886e-12  \n10  0.000000e+00  \n11  0.000000e+00  \n12  0.000000e+00  \n13  0.000000e+00  \n14  0.000000e+00  \n15  2.220446e-16  \n16  0.000000e+00  \n17  0.000000e+00  \n18  3.330669e-16  \n19  0.000000e+00  \n20  0.000000e+00  \n21  0.000000e+00  \n22  0.000000e+00  \n23  2.367553e-07  \n24  1.110223e-16  "
     },
     "execution_count": 8,
     "metadata": {},
     "output_type": "execute_result"
    }
   ],
   "source": [
    "strks_pts.iloc[:25]\n"
   ]
  },
  {
   "cell_type": "code",
   "execution_count": null,
   "metadata": {},
   "outputs": [],
   "source": []
  }
 ],
 "metadata": {
  "kernelspec": {
   "display_name": "Python 3.8.5 64-bit ('Stat143-tcupbjG0': pipenv)",
   "name": "python385jvsc74a57bd03553bbdbca6dcc6a0267c6735dd7b03e30459b2429eb4abfe34f3ad9df95fec9"
  },
  "language_info": {
   "codemirror_mode": {
    "name": "ipython",
    "version": 3
   },
   "file_extension": ".py",
   "mimetype": "text/x-python",
   "name": "python",
   "nbconvert_exporter": "python",
   "pygments_lexer": "ipython3",
   "version": "3.8.5"
  },
  "orig_nbformat": 2
 },
 "nbformat": 4,
 "nbformat_minor": 2
}