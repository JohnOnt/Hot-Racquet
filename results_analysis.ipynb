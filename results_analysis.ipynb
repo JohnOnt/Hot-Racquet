{
 "cells": [
  {
   "cell_type": "code",
   "execution_count": 21,
   "metadata": {},
   "outputs": [],
   "source": [
    "import pandas as pd\n",
    "import matplotlib.pyplot as plt\n",
    "import plotly.express as px\n",
    "import numpy as np\n",
    "import pickle"
   ]
  },
  {
   "cell_type": "code",
   "execution_count": 22,
   "metadata": {},
   "outputs": [],
   "source": [
    "strks_pts = pd.read_csv('streaks_points.csv')\n",
    "rankings = pd.read_csv('Elo_Rankings2017.csv')\n",
    "\n",
    "strks_pts['Elo'] = rankings.points[:101]"
   ]
  },
  {
   "cell_type": "code",
   "execution_count": 23,
   "metadata": {},
   "outputs": [],
   "source": [
    "# Add significance column, Bonferroni corrected\n",
    "isSig = ['Yes' if p < (0.05/100) else 'No' for p in strks_pts['p-val'] ]\n",
    "strks_pts['Significant'] = isSig"
   ]
  },
  {
   "cell_type": "code",
   "execution_count": 3,
   "metadata": {},
   "outputs": [
    {
     "data": {
      "text/plain": "array([[0.7056381, 0.2943619]])"
     },
     "execution_count": 3,
     "metadata": {},
     "output_type": "execute_result"
    }
   ],
   "source": [
    "lm_points = pickle.load(open('point_prob_model.sav', 'rb'))\n",
    "# Federer 2444\n",
    "# 1968\n",
    "\n",
    "lm_points.predict_proba(np.array([[2444 - 1968, 3.0]]))"
   ]
  },
  {
   "cell_type": "code",
   "execution_count": 19,
   "metadata": {},
   "outputs": [
    {
     "data": {
      "text/html": "<div>\n<style scoped>\n    .dataframe tbody tr th:only-of-type {\n        vertical-align: middle;\n    }\n\n    .dataframe tbody tr th {\n        vertical-align: top;\n    }\n\n    .dataframe thead th {\n        text-align: right;\n    }\n</style>\n<table border=\"1\" class=\"dataframe\">\n  <thead>\n    <tr style=\"text-align: right;\">\n      <th></th>\n      <th>name</th>\n      <th>Player</th>\n      <th>kmax</th>\n      <th>chi2</th>\n      <th>p-val</th>\n      <th>Elo</th>\n      <th>isSig</th>\n    </tr>\n  </thead>\n  <tbody>\n    <tr>\n      <th>0</th>\n      <td>Roger Federer</td>\n      <td>Roger Federer</td>\n      <td>14.0</td>\n      <td>402.812037</td>\n      <td>0.000000</td>\n      <td>2444</td>\n      <td>1</td>\n    </tr>\n    <tr>\n      <th>1</th>\n      <td>Novak Djokovic</td>\n      <td>Novak Djokovic</td>\n      <td>13.0</td>\n      <td>399.664918</td>\n      <td>0.000000</td>\n      <td>2418</td>\n      <td>1</td>\n    </tr>\n    <tr>\n      <th>2</th>\n      <td>Andy Murray</td>\n      <td>Andy Murray</td>\n      <td>15.0</td>\n      <td>392.319272</td>\n      <td>0.000000</td>\n      <td>2353</td>\n      <td>1</td>\n    </tr>\n    <tr>\n      <th>3</th>\n      <td>Rafael Nadal</td>\n      <td>Rafael Nadal</td>\n      <td>15.0</td>\n      <td>265.890069</td>\n      <td>0.000000</td>\n      <td>2350</td>\n      <td>1</td>\n    </tr>\n    <tr>\n      <th>4</th>\n      <td>Juan Martin Del Potro</td>\n      <td>Juan Martin Del Potro</td>\n      <td>9.0</td>\n      <td>33.825160</td>\n      <td>0.000044</td>\n      <td>2243</td>\n      <td>1</td>\n    </tr>\n    <tr>\n      <th>...</th>\n      <td>...</td>\n      <td>...</td>\n      <td>...</td>\n      <td>...</td>\n      <td>...</td>\n      <td>...</td>\n      <td>...</td>\n    </tr>\n    <tr>\n      <th>96</th>\n      <td>Filip Krajinovic</td>\n      <td>Filip Krajinovic</td>\n      <td>6.0</td>\n      <td>4.799818</td>\n      <td>0.440796</td>\n      <td>1842</td>\n      <td>0</td>\n    </tr>\n    <tr>\n      <th>97</th>\n      <td>Thomaz Bellucci</td>\n      <td>Thomaz Bellucci</td>\n      <td>13.0</td>\n      <td>33.430949</td>\n      <td>0.000829</td>\n      <td>1834</td>\n      <td>0</td>\n    </tr>\n    <tr>\n      <th>98</th>\n      <td>Yen Hsun Lu</td>\n      <td>Yen Hsun Lu</td>\n      <td>11.0</td>\n      <td>21.776995</td>\n      <td>0.016282</td>\n      <td>1832</td>\n      <td>0</td>\n    </tr>\n    <tr>\n      <th>99</th>\n      <td>Tommy Haas</td>\n      <td>Tommy Haas</td>\n      <td>9.0</td>\n      <td>14.021141</td>\n      <td>0.081216</td>\n      <td>1831</td>\n      <td>0</td>\n    </tr>\n    <tr>\n      <th>100</th>\n      <td>Andrej Martin</td>\n      <td>Andrej Martin</td>\n      <td>5.0</td>\n      <td>6.136861</td>\n      <td>0.189158</td>\n      <td>1830</td>\n      <td>0</td>\n    </tr>\n  </tbody>\n</table>\n<p>101 rows × 7 columns</p>\n</div>",
      "text/plain": "                      name                 Player  kmax        chi2     p-val  \\\n0            Roger Federer          Roger Federer  14.0  402.812037  0.000000   \n1           Novak Djokovic         Novak Djokovic  13.0  399.664918  0.000000   \n2              Andy Murray            Andy Murray  15.0  392.319272  0.000000   \n3             Rafael Nadal           Rafael Nadal  15.0  265.890069  0.000000   \n4    Juan Martin Del Potro  Juan Martin Del Potro   9.0   33.825160  0.000044   \n..                     ...                    ...   ...         ...       ...   \n96        Filip Krajinovic       Filip Krajinovic   6.0    4.799818  0.440796   \n97         Thomaz Bellucci        Thomaz Bellucci  13.0   33.430949  0.000829   \n98             Yen Hsun Lu            Yen Hsun Lu  11.0   21.776995  0.016282   \n99              Tommy Haas             Tommy Haas   9.0   14.021141  0.081216   \n100          Andrej Martin          Andrej Martin   5.0    6.136861  0.189158   \n\n      Elo  isSig  \n0    2444      1  \n1    2418      1  \n2    2353      1  \n3    2350      1  \n4    2243      1  \n..    ...    ...  \n96   1842      0  \n97   1834      0  \n98   1832      0  \n99   1831      0  \n100  1830      0  \n\n[101 rows x 7 columns]"
     },
     "execution_count": 19,
     "metadata": {},
     "output_type": "execute_result"
    }
   ],
   "source": [
    "strks_pts"
   ]
  },
  {
   "cell_type": "code",
   "execution_count": 12,
   "metadata": {},
   "outputs": [
    {
     "data": {
      "text/html": "<div>\n<style scoped>\n    .dataframe tbody tr th:only-of-type {\n        vertical-align: middle;\n    }\n\n    .dataframe tbody tr th {\n        vertical-align: top;\n    }\n\n    .dataframe thead th {\n        text-align: right;\n    }\n</style>\n<table border=\"1\" class=\"dataframe\">\n  <thead>\n    <tr style=\"text-align: right;\">\n      <th></th>\n      <th>rank</th>\n      <th>name</th>\n      <th>country_name</th>\n      <th>country_id</th>\n      <th>points</th>\n      <th>bestRank</th>\n      <th>bestRankDate</th>\n      <th>rankDiff</th>\n      <th>pointsDiff</th>\n      <th>bestPoints</th>\n    </tr>\n  </thead>\n  <tbody>\n    <tr>\n      <th>0</th>\n      <td>1</td>\n      <td>Roger Federer</td>\n      <td>Switzerland</td>\n      <td>SUI</td>\n      <td>2444</td>\n      <td>1</td>\n      <td>2003-08-11</td>\n      <td>0</td>\n      <td>0</td>\n      <td>2550</td>\n    </tr>\n    <tr>\n      <th>1</th>\n      <td>2</td>\n      <td>Novak Djokovic</td>\n      <td>Serbia</td>\n      <td>SRB</td>\n      <td>2418</td>\n      <td>1</td>\n      <td>2011-03-21</td>\n      <td>0</td>\n      <td>0</td>\n      <td>2629</td>\n    </tr>\n    <tr>\n      <th>2</th>\n      <td>3</td>\n      <td>Andy Murray</td>\n      <td>United Kingdom</td>\n      <td>GBR</td>\n      <td>2353</td>\n      <td>2</td>\n      <td>2009-04-19</td>\n      <td>0</td>\n      <td>0</td>\n      <td>2500</td>\n    </tr>\n    <tr>\n      <th>3</th>\n      <td>4</td>\n      <td>Rafael Nadal</td>\n      <td>Spain</td>\n      <td>ESP</td>\n      <td>2350</td>\n      <td>1</td>\n      <td>2008-06-16</td>\n      <td>0</td>\n      <td>0</td>\n      <td>2552</td>\n    </tr>\n    <tr>\n      <th>4</th>\n      <td>5</td>\n      <td>Juan Martin Del Potro</td>\n      <td>Argentina</td>\n      <td>ARG</td>\n      <td>2243</td>\n      <td>3</td>\n      <td>2010-06-07</td>\n      <td>0</td>\n      <td>0</td>\n      <td>2331</td>\n    </tr>\n  </tbody>\n</table>\n</div>",
      "text/plain": "   rank                   name    country_name country_id  points  bestRank  \\\n0     1          Roger Federer     Switzerland        SUI    2444         1   \n1     2         Novak Djokovic          Serbia        SRB    2418         1   \n2     3            Andy Murray  United Kingdom        GBR    2353         2   \n3     4           Rafael Nadal           Spain        ESP    2350         1   \n4     5  Juan Martin Del Potro       Argentina        ARG    2243         3   \n\n  bestRankDate  rankDiff  pointsDiff  bestPoints  \n0   2003-08-11         0           0        2550  \n1   2011-03-21         0           0        2629  \n2   2009-04-19         0           0        2500  \n3   2008-06-16         0           0        2552  \n4   2010-06-07         0           0        2331  "
     },
     "execution_count": 12,
     "metadata": {},
     "output_type": "execute_result"
    }
   ],
   "source": [
    "rankings.head()"
   ]
  },
  {
   "cell_type": "code",
   "execution_count": 5,
   "metadata": {},
   "outputs": [
    {
     "data": {
      "application/vnd.plotly.v1+json": {
       "config": {
        "plotlyServerURL": "https://plot.ly"
       },
       "data": [
        {
         "alignmentgroup": "True",
         "hovertemplate": "Player=%{x}<br>p-val=%{y}<extra></extra>",
         "legendgroup": "",
         "marker": {
          "color": "#636efa"
         },
         "name": "",
         "offsetgroup": "",
         "orientation": "v",
         "showlegend": false,
         "textposition": "auto",
         "type": "bar",
         "x": [
          "Roger Federer",
          "Feliciano Lopez",
          "Gilles Muller",
          "Kevin Anderson",
          "John Isner",
          "Richard Gasquet",
          "Dominic Thiem",
          "Gael Monfils",
          "Nick Kyrgios",
          "Sam Querrey",
          "Tomas Berdych",
          "Jo Wilfried Tsonga",
          "Alexander Zverev",
          "Milos Raonic",
          "Kei Nishikori",
          "Grigor Dimitrov",
          "Stan Wawrinka",
          "Ivo Karlovic",
          "Rafael Nadal",
          "Andy Murray",
          "Novak Djokovic",
          "Marin Cilic",
          "Lucas Pouille",
          "Roberto Bautista Agut",
          "David Ferrer",
          "Jack Sock",
          "Steve Johnson",
          "David Goffin",
          "Gilles Simon",
          "Vasek Pospisil",
          "Denis Istomin",
          "Donald Young",
          "Alexandr Dolgopolov",
          "Nicolas Almagro",
          "Bernard Tomic",
          "Julien Benneteau",
          "Fernando Verdasco",
          "Fabio Fognini",
          "Lukas Rosol",
          "Borna Coric",
          "Andreas Seppi",
          "Tommy Robredo",
          "Jerzy Janowicz",
          "Philipp Kohlschreiber",
          "Marcos Baghdatis",
          "Dudi Sela",
          "Pablo Carreno Busta",
          "Dustin Brown",
          "Jeremy Chardy",
          "Horacio Zeballos",
          "Andrey Kuznetsov",
          "Andrey Rublev",
          "Jiri Vesely",
          "Benoit Paire",
          "Jan Lennard Struff",
          "Nicolas Mahut",
          "Radek Stepanek",
          "Karen Khachanov",
          "Juan Martin Del Potro",
          "Aljaz Bedene",
          "Mikhail Kukushkin",
          "Kyle Edmund",
          "Dusan Lajovic",
          "Robin Haase",
          "Steve Darcis",
          "Juan Monaco",
          "Adrian Mannarino",
          "Daniel Evans",
          "John Millman",
          "Sergiy Stakhovsky",
          "Pablo Cuevas",
          "Ernests Gulbis",
          "Nikoloz Basilashvili",
          "Guido Pella",
          "Ruben Bemelmans",
          "Thomaz Bellucci",
          "Denis Shapovalov",
          "Ryan Harrison",
          "Viktor Troicki",
          "Darian King",
          "Leonardo Mayer",
          "Daniil Medvedev",
          "Albert Ramos",
          "Yen Hsun Lu",
          "Damir Dzumhur",
          "Mischa Zverev",
          "Jared Donaldson",
          "Martin Klizan",
          "Federico Delbonis",
          "Hyeon Chung",
          "Yuichi Sugita",
          "Florian Mayer",
          "Tommy Haas",
          "Marton Fucsovics",
          "Simone Bolelli",
          "Andrej Martin",
          "Yoshihito Nishioka",
          "Filip Krajinovic",
          "Peter Gojowczyk",
          "Diego Sebastian Schwartzman",
          "Taylor Harry Fritz"
         ],
         "xaxis": "x",
         "y": [
          0,
          0,
          0,
          0,
          0,
          0,
          0,
          0,
          0,
          0,
          0,
          0,
          0,
          0,
          0,
          0,
          0,
          0,
          0,
          0,
          0,
          0,
          1.1102230246251563e-16,
          2.220446049250313e-16,
          2.220446049250313e-16,
          3.3306690738754696e-16,
          5.440092820663267e-15,
          1.6708856520608606e-12,
          9.45277189856597e-12,
          1.1172396341407875e-11,
          1.111365999229008e-9,
          1.414641292996066e-9,
          5.426818883158546e-9,
          5.916334422373381e-9,
          6.224343929162046e-9,
          9.467373329741235e-9,
          1.7649393613261566e-8,
          3.8796106660576874e-8,
          4.3812508287999214e-8,
          8.366143577909214e-8,
          9.528282141069157e-8,
          9.65499074023768e-8,
          2.0467875183616258e-7,
          2.3675532800915283e-7,
          2.435282453472354e-7,
          2.732258537196941e-7,
          4.272442828412437e-7,
          5.355811929508292e-7,
          7.495562074355533e-7,
          0.0000013948143489095344,
          0.0000031841553022049496,
          0.000004721988835054702,
          0.000005766703578102828,
          0.000006928389201354968,
          0.000008568316432477907,
          0.00001462556435305462,
          0.00002473895882504351,
          0.000026475974873818583,
          0.00004369930180103676,
          0.000050930597331522165,
          0.00007069433081074994,
          0.00009068645135479336,
          0.0001349610864374,
          0.0001419333571529,
          0.0001516784531695,
          0.0001880807124271,
          0.0002148200652366,
          0.0002625584556369,
          0.0002811422026371,
          0.0003171629764731,
          0.0003716436936823,
          0.0004793743736336,
          0.0005014331822075,
          0.0005185150359091,
          0.0006795017465082,
          0.0008288580732844,
          0.0018674151908368,
          0.0018970220747996,
          0.0039372595204385,
          0.0046745725993909,
          0.0050706457955949,
          0.0056065702529269,
          0.0140471734493977,
          0.0162818631612331,
          0.0183343328170795,
          0.019567345395394,
          0.0219183381473756,
          0.0274324593703548,
          0.0274348353162563,
          0.0281015610301357,
          0.0419554353613037,
          0.0513899435823592,
          0.0812160501235373,
          0.0812501172721772,
          0.107973310856669,
          0.1891578714408244,
          0.2406094288972436,
          0.4407961011265409,
          0.4662885972725342,
          null,
          null
         ],
         "yaxis": "y"
        }
       ],
       "layout": {
        "barmode": "relative",
        "legend": {
         "tracegroupgap": 0
        },
        "margin": {
         "t": 60
        },
        "template": {
         "data": {
          "bar": [
           {
            "error_x": {
             "color": "#2a3f5f"
            },
            "error_y": {
             "color": "#2a3f5f"
            },
            "marker": {
             "line": {
              "color": "#E5ECF6",
              "width": 0.5
             }
            },
            "type": "bar"
           }
          ],
          "barpolar": [
           {
            "marker": {
             "line": {
              "color": "#E5ECF6",
              "width": 0.5
             }
            },
            "type": "barpolar"
           }
          ],
          "carpet": [
           {
            "aaxis": {
             "endlinecolor": "#2a3f5f",
             "gridcolor": "white",
             "linecolor": "white",
             "minorgridcolor": "white",
             "startlinecolor": "#2a3f5f"
            },
            "baxis": {
             "endlinecolor": "#2a3f5f",
             "gridcolor": "white",
             "linecolor": "white",
             "minorgridcolor": "white",
             "startlinecolor": "#2a3f5f"
            },
            "type": "carpet"
           }
          ],
          "choropleth": [
           {
            "colorbar": {
             "outlinewidth": 0,
             "ticks": ""
            },
            "type": "choropleth"
           }
          ],
          "contour": [
           {
            "colorbar": {
             "outlinewidth": 0,
             "ticks": ""
            },
            "colorscale": [
             [
              0,
              "#0d0887"
             ],
             [
              0.1111111111111111,
              "#46039f"
             ],
             [
              0.2222222222222222,
              "#7201a8"
             ],
             [
              0.3333333333333333,
              "#9c179e"
             ],
             [
              0.4444444444444444,
              "#bd3786"
             ],
             [
              0.5555555555555556,
              "#d8576b"
             ],
             [
              0.6666666666666666,
              "#ed7953"
             ],
             [
              0.7777777777777778,
              "#fb9f3a"
             ],
             [
              0.8888888888888888,
              "#fdca26"
             ],
             [
              1,
              "#f0f921"
             ]
            ],
            "type": "contour"
           }
          ],
          "contourcarpet": [
           {
            "colorbar": {
             "outlinewidth": 0,
             "ticks": ""
            },
            "type": "contourcarpet"
           }
          ],
          "heatmap": [
           {
            "colorbar": {
             "outlinewidth": 0,
             "ticks": ""
            },
            "colorscale": [
             [
              0,
              "#0d0887"
             ],
             [
              0.1111111111111111,
              "#46039f"
             ],
             [
              0.2222222222222222,
              "#7201a8"
             ],
             [
              0.3333333333333333,
              "#9c179e"
             ],
             [
              0.4444444444444444,
              "#bd3786"
             ],
             [
              0.5555555555555556,
              "#d8576b"
             ],
             [
              0.6666666666666666,
              "#ed7953"
             ],
             [
              0.7777777777777778,
              "#fb9f3a"
             ],
             [
              0.8888888888888888,
              "#fdca26"
             ],
             [
              1,
              "#f0f921"
             ]
            ],
            "type": "heatmap"
           }
          ],
          "heatmapgl": [
           {
            "colorbar": {
             "outlinewidth": 0,
             "ticks": ""
            },
            "colorscale": [
             [
              0,
              "#0d0887"
             ],
             [
              0.1111111111111111,
              "#46039f"
             ],
             [
              0.2222222222222222,
              "#7201a8"
             ],
             [
              0.3333333333333333,
              "#9c179e"
             ],
             [
              0.4444444444444444,
              "#bd3786"
             ],
             [
              0.5555555555555556,
              "#d8576b"
             ],
             [
              0.6666666666666666,
              "#ed7953"
             ],
             [
              0.7777777777777778,
              "#fb9f3a"
             ],
             [
              0.8888888888888888,
              "#fdca26"
             ],
             [
              1,
              "#f0f921"
             ]
            ],
            "type": "heatmapgl"
           }
          ],
          "histogram": [
           {
            "marker": {
             "colorbar": {
              "outlinewidth": 0,
              "ticks": ""
             }
            },
            "type": "histogram"
           }
          ],
          "histogram2d": [
           {
            "colorbar": {
             "outlinewidth": 0,
             "ticks": ""
            },
            "colorscale": [
             [
              0,
              "#0d0887"
             ],
             [
              0.1111111111111111,
              "#46039f"
             ],
             [
              0.2222222222222222,
              "#7201a8"
             ],
             [
              0.3333333333333333,
              "#9c179e"
             ],
             [
              0.4444444444444444,
              "#bd3786"
             ],
             [
              0.5555555555555556,
              "#d8576b"
             ],
             [
              0.6666666666666666,
              "#ed7953"
             ],
             [
              0.7777777777777778,
              "#fb9f3a"
             ],
             [
              0.8888888888888888,
              "#fdca26"
             ],
             [
              1,
              "#f0f921"
             ]
            ],
            "type": "histogram2d"
           }
          ],
          "histogram2dcontour": [
           {
            "colorbar": {
             "outlinewidth": 0,
             "ticks": ""
            },
            "colorscale": [
             [
              0,
              "#0d0887"
             ],
             [
              0.1111111111111111,
              "#46039f"
             ],
             [
              0.2222222222222222,
              "#7201a8"
             ],
             [
              0.3333333333333333,
              "#9c179e"
             ],
             [
              0.4444444444444444,
              "#bd3786"
             ],
             [
              0.5555555555555556,
              "#d8576b"
             ],
             [
              0.6666666666666666,
              "#ed7953"
             ],
             [
              0.7777777777777778,
              "#fb9f3a"
             ],
             [
              0.8888888888888888,
              "#fdca26"
             ],
             [
              1,
              "#f0f921"
             ]
            ],
            "type": "histogram2dcontour"
           }
          ],
          "mesh3d": [
           {
            "colorbar": {
             "outlinewidth": 0,
             "ticks": ""
            },
            "type": "mesh3d"
           }
          ],
          "parcoords": [
           {
            "line": {
             "colorbar": {
              "outlinewidth": 0,
              "ticks": ""
             }
            },
            "type": "parcoords"
           }
          ],
          "pie": [
           {
            "automargin": true,
            "type": "pie"
           }
          ],
          "scatter": [
           {
            "marker": {
             "colorbar": {
              "outlinewidth": 0,
              "ticks": ""
             }
            },
            "type": "scatter"
           }
          ],
          "scatter3d": [
           {
            "line": {
             "colorbar": {
              "outlinewidth": 0,
              "ticks": ""
             }
            },
            "marker": {
             "colorbar": {
              "outlinewidth": 0,
              "ticks": ""
             }
            },
            "type": "scatter3d"
           }
          ],
          "scattercarpet": [
           {
            "marker": {
             "colorbar": {
              "outlinewidth": 0,
              "ticks": ""
             }
            },
            "type": "scattercarpet"
           }
          ],
          "scattergeo": [
           {
            "marker": {
             "colorbar": {
              "outlinewidth": 0,
              "ticks": ""
             }
            },
            "type": "scattergeo"
           }
          ],
          "scattergl": [
           {
            "marker": {
             "colorbar": {
              "outlinewidth": 0,
              "ticks": ""
             }
            },
            "type": "scattergl"
           }
          ],
          "scattermapbox": [
           {
            "marker": {
             "colorbar": {
              "outlinewidth": 0,
              "ticks": ""
             }
            },
            "type": "scattermapbox"
           }
          ],
          "scatterpolar": [
           {
            "marker": {
             "colorbar": {
              "outlinewidth": 0,
              "ticks": ""
             }
            },
            "type": "scatterpolar"
           }
          ],
          "scatterpolargl": [
           {
            "marker": {
             "colorbar": {
              "outlinewidth": 0,
              "ticks": ""
             }
            },
            "type": "scatterpolargl"
           }
          ],
          "scatterternary": [
           {
            "marker": {
             "colorbar": {
              "outlinewidth": 0,
              "ticks": ""
             }
            },
            "type": "scatterternary"
           }
          ],
          "surface": [
           {
            "colorbar": {
             "outlinewidth": 0,
             "ticks": ""
            },
            "colorscale": [
             [
              0,
              "#0d0887"
             ],
             [
              0.1111111111111111,
              "#46039f"
             ],
             [
              0.2222222222222222,
              "#7201a8"
             ],
             [
              0.3333333333333333,
              "#9c179e"
             ],
             [
              0.4444444444444444,
              "#bd3786"
             ],
             [
              0.5555555555555556,
              "#d8576b"
             ],
             [
              0.6666666666666666,
              "#ed7953"
             ],
             [
              0.7777777777777778,
              "#fb9f3a"
             ],
             [
              0.8888888888888888,
              "#fdca26"
             ],
             [
              1,
              "#f0f921"
             ]
            ],
            "type": "surface"
           }
          ],
          "table": [
           {
            "cells": {
             "fill": {
              "color": "#EBF0F8"
             },
             "line": {
              "color": "white"
             }
            },
            "header": {
             "fill": {
              "color": "#C8D4E3"
             },
             "line": {
              "color": "white"
             }
            },
            "type": "table"
           }
          ]
         },
         "layout": {
          "annotationdefaults": {
           "arrowcolor": "#2a3f5f",
           "arrowhead": 0,
           "arrowwidth": 1
          },
          "autotypenumbers": "strict",
          "coloraxis": {
           "colorbar": {
            "outlinewidth": 0,
            "ticks": ""
           }
          },
          "colorscale": {
           "diverging": [
            [
             0,
             "#8e0152"
            ],
            [
             0.1,
             "#c51b7d"
            ],
            [
             0.2,
             "#de77ae"
            ],
            [
             0.3,
             "#f1b6da"
            ],
            [
             0.4,
             "#fde0ef"
            ],
            [
             0.5,
             "#f7f7f7"
            ],
            [
             0.6,
             "#e6f5d0"
            ],
            [
             0.7,
             "#b8e186"
            ],
            [
             0.8,
             "#7fbc41"
            ],
            [
             0.9,
             "#4d9221"
            ],
            [
             1,
             "#276419"
            ]
           ],
           "sequential": [
            [
             0,
             "#0d0887"
            ],
            [
             0.1111111111111111,
             "#46039f"
            ],
            [
             0.2222222222222222,
             "#7201a8"
            ],
            [
             0.3333333333333333,
             "#9c179e"
            ],
            [
             0.4444444444444444,
             "#bd3786"
            ],
            [
             0.5555555555555556,
             "#d8576b"
            ],
            [
             0.6666666666666666,
             "#ed7953"
            ],
            [
             0.7777777777777778,
             "#fb9f3a"
            ],
            [
             0.8888888888888888,
             "#fdca26"
            ],
            [
             1,
             "#f0f921"
            ]
           ],
           "sequentialminus": [
            [
             0,
             "#0d0887"
            ],
            [
             0.1111111111111111,
             "#46039f"
            ],
            [
             0.2222222222222222,
             "#7201a8"
            ],
            [
             0.3333333333333333,
             "#9c179e"
            ],
            [
             0.4444444444444444,
             "#bd3786"
            ],
            [
             0.5555555555555556,
             "#d8576b"
            ],
            [
             0.6666666666666666,
             "#ed7953"
            ],
            [
             0.7777777777777778,
             "#fb9f3a"
            ],
            [
             0.8888888888888888,
             "#fdca26"
            ],
            [
             1,
             "#f0f921"
            ]
           ]
          },
          "colorway": [
           "#636efa",
           "#EF553B",
           "#00cc96",
           "#ab63fa",
           "#FFA15A",
           "#19d3f3",
           "#FF6692",
           "#B6E880",
           "#FF97FF",
           "#FECB52"
          ],
          "font": {
           "color": "#2a3f5f"
          },
          "geo": {
           "bgcolor": "white",
           "lakecolor": "white",
           "landcolor": "#E5ECF6",
           "showlakes": true,
           "showland": true,
           "subunitcolor": "white"
          },
          "hoverlabel": {
           "align": "left"
          },
          "hovermode": "closest",
          "mapbox": {
           "style": "light"
          },
          "paper_bgcolor": "white",
          "plot_bgcolor": "#E5ECF6",
          "polar": {
           "angularaxis": {
            "gridcolor": "white",
            "linecolor": "white",
            "ticks": ""
           },
           "bgcolor": "#E5ECF6",
           "radialaxis": {
            "gridcolor": "white",
            "linecolor": "white",
            "ticks": ""
           }
          },
          "scene": {
           "xaxis": {
            "backgroundcolor": "#E5ECF6",
            "gridcolor": "white",
            "gridwidth": 2,
            "linecolor": "white",
            "showbackground": true,
            "ticks": "",
            "zerolinecolor": "white"
           },
           "yaxis": {
            "backgroundcolor": "#E5ECF6",
            "gridcolor": "white",
            "gridwidth": 2,
            "linecolor": "white",
            "showbackground": true,
            "ticks": "",
            "zerolinecolor": "white"
           },
           "zaxis": {
            "backgroundcolor": "#E5ECF6",
            "gridcolor": "white",
            "gridwidth": 2,
            "linecolor": "white",
            "showbackground": true,
            "ticks": "",
            "zerolinecolor": "white"
           }
          },
          "shapedefaults": {
           "line": {
            "color": "#2a3f5f"
           }
          },
          "ternary": {
           "aaxis": {
            "gridcolor": "white",
            "linecolor": "white",
            "ticks": ""
           },
           "baxis": {
            "gridcolor": "white",
            "linecolor": "white",
            "ticks": ""
           },
           "bgcolor": "#E5ECF6",
           "caxis": {
            "gridcolor": "white",
            "linecolor": "white",
            "ticks": ""
           }
          },
          "title": {
           "x": 0.05
          },
          "xaxis": {
           "automargin": true,
           "gridcolor": "white",
           "linecolor": "white",
           "ticks": "",
           "title": {
            "standoff": 15
           },
           "zerolinecolor": "white",
           "zerolinewidth": 2
          },
          "yaxis": {
           "automargin": true,
           "gridcolor": "white",
           "linecolor": "white",
           "ticks": "",
           "title": {
            "standoff": 15
           },
           "zerolinecolor": "white",
           "zerolinewidth": 2
          }
         }
        },
        "xaxis": {
         "anchor": "y",
         "domain": [
          0,
          1
         ],
         "title": {
          "text": "Player"
         }
        },
        "yaxis": {
         "anchor": "x",
         "domain": [
          0,
          1
         ],
         "title": {
          "text": "p-val"
         }
        }
       }
      }
     },
     "metadata": {},
     "output_type": "display_data"
    }
   ],
   "source": [
    "strks_pts_sorted = strks_pts.sort_values('p-val')\n",
    "fig = px.bar(strks_pts_sorted, x='Player', y='p-val')\n",
    "#fig.update_xaxes(visible=False, showticklabels=True)\n",
    "fig.show()"
   ]
  },
  {
   "cell_type": "code",
   "execution_count": 6,
   "metadata": {},
   "outputs": [
    {
     "data": {
      "image/png": "[encoded data removed]",
      "text/plain": "<Figure size 432x288 with 1 Axes>"
     },
     "metadata": {
      "needs_background": "light"
     },
     "output_type": "display_data"
    }
   ],
   "source": [
    "federer_data = pickle.load(open('federer_data.sav', 'rb'))\n",
    "mu = federer_data['mu']\n",
    "sig = federer_data['sig']\n",
    "counts = federer_data['counts']\n",
    "kmax = federer_data['kmax']\n",
    "\n",
    "fig,ax = plt.subplots()\n",
    "kvals = 1+np.arange(kmax)\n",
    "ax.bar(kvals,mu[:kmax],alpha=0.3,color='g',yerr=sig[:kmax], ecolor='g')\n",
    "ax.set_xticks(kvals)\n",
    "ax.set_xlim(0,kmax)\n",
    "if not False:\n",
    "    ax.plot(kvals,counts[:kmax],'kd')\n",
    "ax.set_xlabel('k')\n",
    "ax.set_ylabel('S_k')\n",
    "\n",
    "plt.savefig('Federer_Plot.png')"
   ]
  },
  {
   "cell_type": "code",
   "execution_count": 36,
   "metadata": {},
   "outputs": [
    {
     "data": {
      "application/vnd.plotly.v1+json": {
       "config": {
        "plotlyServerURL": "https://plot.ly"
       },
       "data": [
        {
         "customdata": [
          [
           "Roger Federer"
          ],
          [
           "Novak Djokovic"
          ],
          [
           "Andy Murray"
          ],
          [
           "Rafael Nadal"
          ],
          [
           "Juan Martin Del Potro"
          ],
          [
           "Stan Wawrinka"
          ],
          [
           "Grigor Dimitrov"
          ],
          [
           "Kei Nishikori"
          ],
          [
           "Milos Raonic"
          ],
          [
           "David Goffin"
          ],
          [
           "Alexander Zverev"
          ],
          [
           "Marin Cilic"
          ],
          [
           "Tomas Berdych"
          ],
          [
           "Jo Wilfried Tsonga"
          ],
          [
           "Nick Kyrgios"
          ],
          [
           "Roberto Bautista Agut"
          ],
          [
           "Gael Monfils"
          ],
          [
           "Dominic Thiem"
          ],
          [
           "Jack Sock"
          ],
          [
           "Richard Gasquet"
          ],
          [
           "John Isner"
          ],
          [
           "Kevin Anderson"
          ],
          [
           "Gilles Muller"
          ],
          [
           "Philipp Kohlschreiber"
          ],
          [
           "Lucas Pouille"
          ],
          [
           "Fabio Fognini"
          ],
          [
           "Sam Querrey"
          ],
          [
           "David Ferrer"
          ],
          [
           "Adrian Mannarino"
          ],
          [
           "Feliciano Lopez"
          ],
          [
           "Pablo Carreno Busta"
          ],
          [
           "Alexandr Dolgopolov"
          ],
          [
           "Fernando Verdasco"
          ],
          [
           "Steve Johnson"
          ],
          [
           "Marcos Baghdatis"
          ],
          [
           "Kyle Edmund"
          ],
          [
           "Julien Benneteau"
          ],
          [
           "Nicolas Almagro"
          ],
          [
           "Borna Coric"
          ],
          [
           "Andrey Rublev"
          ],
          [
           "Radek Stepanek"
          ],
          [
           "Juan Monaco"
          ],
          [
           "Pablo Cuevas"
          ],
          [
           "Gilles Simon"
          ],
          [
           "Robin Haase"
          ],
          [
           "Donald Young"
          ],
          [
           "Jan Lennard Struff"
          ],
          [
           "Andreas Seppi"
          ],
          [
           "Steve Darcis"
          ],
          [
           "Andrey Kuznetsov"
          ],
          [
           "Jerzy Janowicz"
          ],
          [
           "Denis Istomin"
          ],
          [
           "Karen Khachanov"
          ],
          [
           "Ivo Karlovic"
          ],
          [
           "Benoit Paire"
          ],
          [
           "Jeremy Chardy"
          ],
          [
           "Nicolas Mahut"
          ],
          [
           "Tommy Robredo"
          ],
          [
           "Jiri Vesely"
          ],
          [
           "Daniel Evans"
          ],
          [
           "Aljaz Bedene"
          ],
          [
           "John Millman"
          ],
          [
           "Mikhail Kukushkin"
          ],
          [
           "Bernard Tomic"
          ],
          [
           "Horacio Zeballos"
          ],
          [
           "Ernests Gulbis"
          ],
          [
           "Dudi Sela"
          ],
          [
           "Dustin Brown"
          ],
          [
           "Lukas Rosol"
          ],
          [
           "Dusan Lajovic"
          ],
          [
           "Vasek Pospisil"
          ],
          [
           "Sergiy Stakhovsky"
          ]
         ],
         "hovertemplate": "Significant=Yes<br>Elo=%{x}<br>chi2=%{y}<br>size=%{marker.size}<br>name=%{customdata[0]}<extra></extra>",
         "legendgroup": "Yes",
         "marker": {
          "color": "#636efa",
          "size": [
           5,
           5,
           5,
           5,
           5,
           5,
           5,
           5,
           5,
           5,
           5,
           5,
           5,
           5,
           5,
           5,
           5,
           5,
           5,
           5,
           5,
           5,
           5,
           5,
           5,
           5,
           5,
           5,
           5,
           5,
           5,
           5,
           5,
           5,
           5,
           5,
           5,
           5,
           5,
           5,
           5,
           5,
           5,
           5,
           5,
           5,
           5,
           5,
           5,
           5,
           5,
           5,
           5,
           5,
           5,
           5,
           5,
           5,
           5,
           5,
           5,
           5,
           5,
           5,
           5,
           5,
           5,
           5,
           5,
           5,
           5,
           5
          ],
          "sizemode": "area",
          "sizeref": 0.0125,
          "symbol": "circle"
         },
         "mode": "markers",
         "name": "Yes",
         "orientation": "v",
         "showlegend": true,
         "type": "scatter",
         "x": [
          2444,
          2418,
          2353,
          2350,
          2243,
          2207,
          2197,
          2185,
          2173,
          2165,
          2153,
          2143,
          2137,
          2119,
          2103,
          2100,
          2089,
          2082,
          2076,
          2068,
          2065,
          2055,
          2044,
          2042,
          2036,
          2032,
          2028,
          2027,
          2003,
          1997,
          1992,
          1989,
          1986,
          1976,
          1941,
          1941,
          1932,
          1930,
          1928,
          1926,
          1926,
          1922,
          1920,
          1914,
          1914,
          1912,
          1909,
          1904,
          1902,
          1901,
          1899,
          1897,
          1897,
          1896,
          1892,
          1891,
          1889,
          1887,
          1886,
          1886,
          1885,
          1883,
          1882,
          1876,
          1870,
          1867,
          1855,
          1854,
          1853,
          1851,
          1845,
          1843
         ],
         "xaxis": "x",
         "y": [
          402.81203682693496,
          399.6649179227821,
          392.3192724022069,
          265.8900693848917,
          33.8251596582971,
          202.6850997931469,
          147.24005569926197,
          189.4749513398716,
          272.4649956363988,
          84.34099783272416,
          103.51606487932705,
          174.41576934613278,
          232.71013662852195,
          114.46490369834297,
          175.0353974872873,
          102.10318004632138,
          113.42385245809682,
          128.08776180224336,
          101.37390792097747,
          103.605287726307,
          191.71696484538413,
          154.2354231371347,
          112.79626786359192,
          50.28296611489773,
          104.4572333183502,
          54.52123904357872,
          140.60835821358688,
          99.85097093398292,
          40.47782860613257,
          131.27174722434614,
          54.86211708434015,
          63.37926507696567,
          54.153749440823375,
          92.46094600227892,
          56.25001266634348,
          41.13237327400782,
          53.29224619124952,
          61.04901977449577,
          43.728830197331526,
          43.12578515570719,
          37.15055117422306,
          32.14333445855932,
          30.422783300237832,
          75.81536652563886,
          34.67354440083764,
          62.15390133607833,
          35.61495995258155,
          58.55040029650829,
          28.88756766301788,
          51.68087007601537,
          44.09683243646418,
          64.92881099511135,
          33.000041216108535,
          149.23894886447053,
          38.1951280575002,
          45.48744796460769,
          36.43337578365377,
          54.47799703281266,
          36.526061298128255,
          34.847584975260986,
          35.38589061098498,
          34.66714552758951,
          34.57844339354038,
          63.05561181502699,
          37.51884157279959,
          38.22879266645856,
          49.94474890579566,
          48.35049050856045,
          56.350474815184185,
          34.80198263514483,
          68.20633218831618,
          37.73768809365334
         ],
         "yaxis": "y"
        },
        {
         "customdata": [
          [
           "Diego Sebastian Schwartzman"
          ],
          [
           "Damir Dzumhur"
          ],
          [
           "Albert Ramos"
          ],
          [
           "Hyeon Chung"
          ],
          [
           "Leonardo Mayer"
          ],
          [
           "Mischa Zverev"
          ],
          [
           "Viktor Troicki"
          ],
          [
           "Federico Delbonis"
          ],
          [
           "Ryan Harrison"
          ],
          [
           "Yuichi Sugita"
          ],
          [
           "Jared Donaldson"
          ],
          [
           "Florian Mayer"
          ],
          [
           "Peter Gojowczyk"
          ],
          [
           "Guido Pella"
          ],
          [
           "Yoshihito Nishioka"
          ],
          [
           "Denis Shapovalov"
          ],
          [
           "Daniil Medvedev"
          ],
          [
           "Simone Bolelli"
          ],
          [
           "Martin Klizan"
          ],
          [
           "Taylor Harry Fritz"
          ],
          [
           "Marton Fucsovics"
          ],
          [
           "Ruben Bemelmans"
          ],
          [
           "Nikoloz Basilashvili"
          ],
          [
           "Darian King"
          ],
          [
           "Filip Krajinovic"
          ],
          [
           "Thomaz Bellucci"
          ],
          [
           "Yen Hsun Lu"
          ],
          [
           "Tommy Haas"
          ],
          [
           "Andrej Martin"
          ]
         ],
         "hovertemplate": "Significant=No<br>Elo=%{x}<br>chi2=%{y}<br>size=%{marker.size}<br>name=%{customdata[0]}<extra></extra>",
         "legendgroup": "No",
         "marker": {
          "color": "#EF553B",
          "size": [
           5,
           5,
           5,
           5,
           5,
           5,
           5,
           5,
           5,
           5,
           5,
           5,
           5,
           5,
           5,
           5,
           5,
           5,
           5,
           5,
           5,
           5,
           5,
           5,
           5,
           5,
           5,
           5,
           5
          ],
          "sizemode": "area",
          "sizeref": 0.0125,
          "symbol": "circle"
         },
         "mode": "markers",
         "name": "No",
         "orientation": "v",
         "showlegend": true,
         "type": "scatter",
         "x": [
          2019,
          1993,
          1944,
          1943,
          1940,
          1931,
          1929,
          1910,
          1908,
          1905,
          1902,
          1899,
          1893,
          1886,
          1876,
          1875,
          1857,
          1856,
          1856,
          1854,
          1853,
          1850,
          1847,
          1846,
          1842,
          1834,
          1832,
          1831,
          1830
         ],
         "xaxis": "x",
         "y": [
          null,
          27.163157305936803,
          14.258669035109808,
          21.54989215965067,
          21.9176922314047,
          16.681796613646974,
          27.44290998943253,
          17.268153610286618,
          22.73293335485002,
          14.56786253600017,
          20.883831619105976,
          19.583538576117203,
          5.6266061702628445,
          22.022286853046847,
          9.171023551113128,
          31.15219990075476,
          21.65030797560641,
          20.75886884718464,
          20.198239431683827,
          null,
          9.795214235040325,
          28.87786813499637,
          34.81345515920773,
          16.909549235524842,
          4.799817660242843,
          33.43094911625809,
          21.776995044310564,
          14.021140819916946,
          6.136861298346985
         ],
         "yaxis": "y"
        }
       ],
       "layout": {
        "legend": {
         "itemsizing": "constant",
         "title": {
          "text": "Significant"
         },
         "tracegroupgap": 0
        },
        "margin": {
         "t": 60
        },
        "template": {
         "data": {
          "bar": [
           {
            "error_x": {
             "color": "#2a3f5f"
            },
            "error_y": {
             "color": "#2a3f5f"
            },
            "marker": {
             "line": {
              "color": "#E5ECF6",
              "width": 0.5
             }
            },
            "type": "bar"
           }
          ],
          "barpolar": [
           {
            "marker": {
             "line": {
              "color": "#E5ECF6",
              "width": 0.5
             }
            },
            "type": "barpolar"
           }
          ],
          "carpet": [
           {
            "aaxis": {
             "endlinecolor": "#2a3f5f",
             "gridcolor": "white",
             "linecolor": "white",
             "minorgridcolor": "white",
             "startlinecolor": "#2a3f5f"
            },
            "baxis": {
             "endlinecolor": "#2a3f5f",
             "gridcolor": "white",
             "linecolor": "white",
             "minorgridcolor": "white",
             "startlinecolor": "#2a3f5f"
            },
            "type": "carpet"
           }
          ],
          "choropleth": [
           {
            "colorbar": {
             "outlinewidth": 0,
             "ticks": ""
            },
            "type": "choropleth"
           }
          ],
          "contour": [
           {
            "colorbar": {
             "outlinewidth": 0,
             "ticks": ""
            },
            "colorscale": [
             [
              0,
              "#0d0887"
             ],
             [
              0.1111111111111111,
              "#46039f"
             ],
             [
              0.2222222222222222,
              "#7201a8"
             ],
             [
              0.3333333333333333,
              "#9c179e"
             ],
             [
              0.4444444444444444,
              "#bd3786"
             ],
             [
              0.5555555555555556,
              "#d8576b"
             ],
             [
              0.6666666666666666,
              "#ed7953"
             ],
             [
              0.7777777777777778,
              "#fb9f3a"
             ],
             [
              0.8888888888888888,
              "#fdca26"
             ],
             [
              1,
              "#f0f921"
             ]
            ],
            "type": "contour"
           }
          ],
          "contourcarpet": [
           {
            "colorbar": {
             "outlinewidth": 0,
             "ticks": ""
            },
            "type": "contourcarpet"
           }
          ],
          "heatmap": [
           {
            "colorbar": {
             "outlinewidth": 0,
             "ticks": ""
            },
            "colorscale": [
             [
              0,
              "#0d0887"
             ],
             [
              0.1111111111111111,
              "#46039f"
             ],
             [
              0.2222222222222222,
              "#7201a8"
             ],
             [
              0.3333333333333333,
              "#9c179e"
             ],
             [
              0.4444444444444444,
              "#bd3786"
             ],
             [
              0.5555555555555556,
              "#d8576b"
             ],
             [
              0.6666666666666666,
              "#ed7953"
             ],
             [
              0.7777777777777778,
              "#fb9f3a"
             ],
             [
              0.8888888888888888,
              "#fdca26"
             ],
             [
              1,
              "#f0f921"
             ]
            ],
            "type": "heatmap"
           }
          ],
          "heatmapgl": [
           {
            "colorbar": {
             "outlinewidth": 0,
             "ticks": ""
            },
            "colorscale": [
             [
              0,
              "#0d0887"
             ],
             [
              0.1111111111111111,
              "#46039f"
             ],
             [
              0.2222222222222222,
              "#7201a8"
             ],
             [
              0.3333333333333333,
              "#9c179e"
             ],
             [
              0.4444444444444444,
              "#bd3786"
             ],
             [
              0.5555555555555556,
              "#d8576b"
             ],
             [
              0.6666666666666666,
              "#ed7953"
             ],
             [
              0.7777777777777778,
              "#fb9f3a"
             ],
             [
              0.8888888888888888,
              "#fdca26"
             ],
             [
              1,
              "#f0f921"
             ]
            ],
            "type": "heatmapgl"
           }
          ],
          "histogram": [
           {
            "marker": {
             "colorbar": {
              "outlinewidth": 0,
              "ticks": ""
             }
            },
            "type": "histogram"
           }
          ],
          "histogram2d": [
           {
            "colorbar": {
             "outlinewidth": 0,
             "ticks": ""
            },
            "colorscale": [
             [
              0,
              "#0d0887"
             ],
             [
              0.1111111111111111,
              "#46039f"
             ],
             [
              0.2222222222222222,
              "#7201a8"
             ],
             [
              0.3333333333333333,
              "#9c179e"
             ],
             [
              0.4444444444444444,
              "#bd3786"
             ],
             [
              0.5555555555555556,
              "#d8576b"
             ],
             [
              0.6666666666666666,
              "#ed7953"
             ],
             [
              0.7777777777777778,
              "#fb9f3a"
             ],
             [
              0.8888888888888888,
              "#fdca26"
             ],
             [
              1,
              "#f0f921"
             ]
            ],
            "type": "histogram2d"
           }
          ],
          "histogram2dcontour": [
           {
            "colorbar": {
             "outlinewidth": 0,
             "ticks": ""
            },
            "colorscale": [
             [
              0,
              "#0d0887"
             ],
             [
              0.1111111111111111,
              "#46039f"
             ],
             [
              0.2222222222222222,
              "#7201a8"
             ],
             [
              0.3333333333333333,
              "#9c179e"
             ],
             [
              0.4444444444444444,
              "#bd3786"
             ],
             [
              0.5555555555555556,
              "#d8576b"
             ],
             [
              0.6666666666666666,
              "#ed7953"
             ],
             [
              0.7777777777777778,
              "#fb9f3a"
             ],
             [
              0.8888888888888888,
              "#fdca26"
             ],
             [
              1,
              "#f0f921"
             ]
            ],
            "type": "histogram2dcontour"
           }
          ],
          "mesh3d": [
           {
            "colorbar": {
             "outlinewidth": 0,
             "ticks": ""
            },
            "type": "mesh3d"
           }
          ],
          "parcoords": [
           {
            "line": {
             "colorbar": {
              "outlinewidth": 0,
              "ticks": ""
             }
            },
            "type": "parcoords"
           }
          ],
          "pie": [
           {
            "automargin": true,
            "type": "pie"
           }
          ],
          "scatter": [
           {
            "marker": {
             "colorbar": {
              "outlinewidth": 0,
              "ticks": ""
             }
            },
            "type": "scatter"
           }
          ],
          "scatter3d": [
           {
            "line": {
             "colorbar": {
              "outlinewidth": 0,
              "ticks": ""
             }
            },
            "marker": {
             "colorbar": {
              "outlinewidth": 0,
              "ticks": ""
             }
            },
            "type": "scatter3d"
           }
          ],
          "scattercarpet": [
           {
            "marker": {
             "colorbar": {
              "outlinewidth": 0,
              "ticks": ""
             }
            },
            "type": "scattercarpet"
           }
          ],
          "scattergeo": [
           {
            "marker": {
             "colorbar": {
              "outlinewidth": 0,
              "ticks": ""
             }
            },
            "type": "scattergeo"
           }
          ],
          "scattergl": [
           {
            "marker": {
             "colorbar": {
              "outlinewidth": 0,
              "ticks": ""
             }
            },
            "type": "scattergl"
           }
          ],
          "scattermapbox": [
           {
            "marker": {
             "colorbar": {
              "outlinewidth": 0,
              "ticks": ""
             }
            },
            "type": "scattermapbox"
           }
          ],
          "scatterpolar": [
           {
            "marker": {
             "colorbar": {
              "outlinewidth": 0,
              "ticks": ""
             }
            },
            "type": "scatterpolar"
           }
          ],
          "scatterpolargl": [
           {
            "marker": {
             "colorbar": {
              "outlinewidth": 0,
              "ticks": ""
             }
            },
            "type": "scatterpolargl"
           }
          ],
          "scatterternary": [
           {
            "marker": {
             "colorbar": {
              "outlinewidth": 0,
              "ticks": ""
             }
            },
            "type": "scatterternary"
           }
          ],
          "surface": [
           {
            "colorbar": {
             "outlinewidth": 0,
             "ticks": ""
            },
            "colorscale": [
             [
              0,
              "#0d0887"
             ],
             [
              0.1111111111111111,
              "#46039f"
             ],
             [
              0.2222222222222222,
              "#7201a8"
             ],
             [
              0.3333333333333333,
              "#9c179e"
             ],
             [
              0.4444444444444444,
              "#bd3786"
             ],
             [
              0.5555555555555556,
              "#d8576b"
             ],
             [
              0.6666666666666666,
              "#ed7953"
             ],
             [
              0.7777777777777778,
              "#fb9f3a"
             ],
             [
              0.8888888888888888,
              "#fdca26"
             ],
             [
              1,
              "#f0f921"
             ]
            ],
            "type": "surface"
           }
          ],
          "table": [
           {
            "cells": {
             "fill": {
              "color": "#EBF0F8"
             },
             "line": {
              "color": "white"
             }
            },
            "header": {
             "fill": {
              "color": "#C8D4E3"
             },
             "line": {
              "color": "white"
             }
            },
            "type": "table"
           }
          ]
         },
         "layout": {
          "annotationdefaults": {
           "arrowcolor": "#2a3f5f",
           "arrowhead": 0,
           "arrowwidth": 1
          },
          "autotypenumbers": "strict",
          "coloraxis": {
           "colorbar": {
            "outlinewidth": 0,
            "ticks": ""
           }
          },
          "colorscale": {
           "diverging": [
            [
             0,
             "#8e0152"
            ],
            [
             0.1,
             "#c51b7d"
            ],
            [
             0.2,
             "#de77ae"
            ],
            [
             0.3,
             "#f1b6da"
            ],
            [
             0.4,
             "#fde0ef"
            ],
            [
             0.5,
             "#f7f7f7"
            ],
            [
             0.6,
             "#e6f5d0"
            ],
            [
             0.7,
             "#b8e186"
            ],
            [
             0.8,
             "#7fbc41"
            ],
            [
             0.9,
             "#4d9221"
            ],
            [
             1,
             "#276419"
            ]
           ],
           "sequential": [
            [
             0,
             "#0d0887"
            ],
            [
             0.1111111111111111,
             "#46039f"
            ],
            [
             0.2222222222222222,
             "#7201a8"
            ],
            [
             0.3333333333333333,
             "#9c179e"
            ],
            [
             0.4444444444444444,
             "#bd3786"
            ],
            [
             0.5555555555555556,
             "#d8576b"
            ],
            [
             0.6666666666666666,
             "#ed7953"
            ],
            [
             0.7777777777777778,
             "#fb9f3a"
            ],
            [
             0.8888888888888888,
             "#fdca26"
            ],
            [
             1,
             "#f0f921"
            ]
           ],
           "sequentialminus": [
            [
             0,
             "#0d0887"
            ],
            [
             0.1111111111111111,
             "#46039f"
            ],
            [
             0.2222222222222222,
             "#7201a8"
            ],
            [
             0.3333333333333333,
             "#9c179e"
            ],
            [
             0.4444444444444444,
             "#bd3786"
            ],
            [
             0.5555555555555556,
             "#d8576b"
            ],
            [
             0.6666666666666666,
             "#ed7953"
            ],
            [
             0.7777777777777778,
             "#fb9f3a"
            ],
            [
             0.8888888888888888,
             "#fdca26"
            ],
            [
             1,
             "#f0f921"
            ]
           ]
          },
          "colorway": [
           "#636efa",
           "#EF553B",
           "#00cc96",
           "#ab63fa",
           "#FFA15A",
           "#19d3f3",
           "#FF6692",
           "#B6E880",
           "#FF97FF",
           "#FECB52"
          ],
          "font": {
           "color": "#2a3f5f"
          },
          "geo": {
           "bgcolor": "white",
           "lakecolor": "white",
           "landcolor": "#E5ECF6",
           "showlakes": true,
           "showland": true,
           "subunitcolor": "white"
          },
          "hoverlabel": {
           "align": "left"
          },
          "hovermode": "closest",
          "mapbox": {
           "style": "light"
          },
          "paper_bgcolor": "white",
          "plot_bgcolor": "#E5ECF6",
          "polar": {
           "angularaxis": {
            "gridcolor": "white",
            "linecolor": "white",
            "ticks": ""
           },
           "bgcolor": "#E5ECF6",
           "radialaxis": {
            "gridcolor": "white",
            "linecolor": "white",
            "ticks": ""
           }
          },
          "scene": {
           "xaxis": {
            "backgroundcolor": "#E5ECF6",
            "gridcolor": "white",
            "gridwidth": 2,
            "linecolor": "white",
            "showbackground": true,
            "ticks": "",
            "zerolinecolor": "white"
           },
           "yaxis": {
            "backgroundcolor": "#E5ECF6",
            "gridcolor": "white",
            "gridwidth": 2,
            "linecolor": "white",
            "showbackground": true,
            "ticks": "",
            "zerolinecolor": "white"
           },
           "zaxis": {
            "backgroundcolor": "#E5ECF6",
            "gridcolor": "white",
            "gridwidth": 2,
            "linecolor": "white",
            "showbackground": true,
            "ticks": "",
            "zerolinecolor": "white"
           }
          },
          "shapedefaults": {
           "line": {
            "color": "#2a3f5f"
           }
          },
          "ternary": {
           "aaxis": {
            "gridcolor": "white",
            "linecolor": "white",
            "ticks": ""
           },
           "baxis": {
            "gridcolor": "white",
            "linecolor": "white",
            "ticks": ""
           },
           "bgcolor": "#E5ECF6",
           "caxis": {
            "gridcolor": "white",
            "linecolor": "white",
            "ticks": ""
           }
          },
          "title": {
           "x": 0.05
          },
          "xaxis": {
           "automargin": true,
           "gridcolor": "white",
           "linecolor": "white",
           "ticks": "",
           "title": {
            "standoff": 15
           },
           "zerolinecolor": "white",
           "zerolinewidth": 2
          },
          "yaxis": {
           "automargin": true,
           "gridcolor": "white",
           "linecolor": "white",
           "ticks": "",
           "title": {
            "standoff": 15
           },
           "zerolinecolor": "white",
           "zerolinewidth": 2
          }
         }
        },
        "xaxis": {
         "anchor": "y",
         "domain": [
          0,
          1
         ],
         "title": {
          "text": "Elo"
         }
        },
        "yaxis": {
         "anchor": "x",
         "domain": [
          0,
          1
         ],
         "title": {
          "text": "chi2"
         }
        }
       }
      }
     },
     "metadata": {},
     "output_type": "display_data"
    }
   ],
   "source": [
    "fig = px.scatter(strks_pts, x='Elo', y='chi2', color='Significant',\n",
    "                    hover_data=['name'], size=np.repeat(5,101))\n",
    "fig.show()"
   ]
  },
  {
   "cell_type": "code",
   "execution_count": 8,
   "metadata": {},
   "outputs": [
    {
     "data": {
      "text/html": "<div>\n<style scoped>\n    .dataframe tbody tr th:only-of-type {\n        vertical-align: middle;\n    }\n\n    .dataframe tbody tr th {\n        vertical-align: top;\n    }\n\n    .dataframe thead th {\n        text-align: right;\n    }\n</style>\n<table border=\"1\" class=\"dataframe\">\n  <thead>\n    <tr style=\"text-align: right;\">\n      <th></th>\n      <th>name</th>\n      <th>Player</th>\n      <th>kmax</th>\n      <th>chi2</th>\n      <th>p-val</th>\n    </tr>\n  </thead>\n  <tbody>\n    <tr>\n      <th>0</th>\n      <td>Roger Federer</td>\n      <td>Roger Federer</td>\n      <td>14.0</td>\n      <td>402.812037</td>\n      <td>0.000000e+00</td>\n    </tr>\n    <tr>\n      <th>1</th>\n      <td>Novak Djokovic</td>\n      <td>Novak Djokovic</td>\n      <td>13.0</td>\n      <td>399.664918</td>\n      <td>0.000000e+00</td>\n    </tr>\n    <tr>\n      <th>2</th>\n      <td>Andy Murray</td>\n      <td>Andy Murray</td>\n      <td>15.0</td>\n      <td>392.319272</td>\n      <td>0.000000e+00</td>\n    </tr>\n    <tr>\n      <th>3</th>\n      <td>Rafael Nadal</td>\n      <td>Rafael Nadal</td>\n      <td>15.0</td>\n      <td>265.890069</td>\n      <td>0.000000e+00</td>\n    </tr>\n    <tr>\n      <th>4</th>\n      <td>Juan Martin Del Potro</td>\n      <td>Juan Martin Del Potro</td>\n      <td>9.0</td>\n      <td>33.825160</td>\n      <td>4.369930e-05</td>\n    </tr>\n    <tr>\n      <th>5</th>\n      <td>Stan Wawrinka</td>\n      <td>Stan Wawrinka</td>\n      <td>12.0</td>\n      <td>202.685100</td>\n      <td>0.000000e+00</td>\n    </tr>\n    <tr>\n      <th>6</th>\n      <td>Grigor Dimitrov</td>\n      <td>Grigor Dimitrov</td>\n      <td>14.0</td>\n      <td>147.240056</td>\n      <td>0.000000e+00</td>\n    </tr>\n    <tr>\n      <th>7</th>\n      <td>Kei Nishikori</td>\n      <td>Kei Nishikori</td>\n      <td>10.0</td>\n      <td>189.474951</td>\n      <td>0.000000e+00</td>\n    </tr>\n    <tr>\n      <th>8</th>\n      <td>Milos Raonic</td>\n      <td>Milos Raonic</td>\n      <td>14.0</td>\n      <td>272.464996</td>\n      <td>0.000000e+00</td>\n    </tr>\n    <tr>\n      <th>9</th>\n      <td>David Goffin</td>\n      <td>David Goffin</td>\n      <td>14.0</td>\n      <td>84.340998</td>\n      <td>1.670886e-12</td>\n    </tr>\n    <tr>\n      <th>10</th>\n      <td>Alexander Zverev</td>\n      <td>Alexander Zverev</td>\n      <td>9.0</td>\n      <td>103.516065</td>\n      <td>0.000000e+00</td>\n    </tr>\n    <tr>\n      <th>11</th>\n      <td>Marin Cilic</td>\n      <td>Marin Cilic</td>\n      <td>12.0</td>\n      <td>174.415769</td>\n      <td>0.000000e+00</td>\n    </tr>\n    <tr>\n      <th>12</th>\n      <td>Tomas Berdych</td>\n      <td>Tomas Berdych</td>\n      <td>15.0</td>\n      <td>232.710137</td>\n      <td>0.000000e+00</td>\n    </tr>\n    <tr>\n      <th>13</th>\n      <td>Jo Wilfried Tsonga</td>\n      <td>Jo Wilfried Tsonga</td>\n      <td>11.0</td>\n      <td>114.464904</td>\n      <td>0.000000e+00</td>\n    </tr>\n    <tr>\n      <th>14</th>\n      <td>Nick Kyrgios</td>\n      <td>Nick Kyrgios</td>\n      <td>12.0</td>\n      <td>175.035397</td>\n      <td>0.000000e+00</td>\n    </tr>\n    <tr>\n      <th>15</th>\n      <td>Roberto Bautista Agut</td>\n      <td>Roberto Bautista Agut</td>\n      <td>13.0</td>\n      <td>102.103180</td>\n      <td>2.220446e-16</td>\n    </tr>\n    <tr>\n      <th>16</th>\n      <td>Gael Monfils</td>\n      <td>Gael Monfils</td>\n      <td>14.0</td>\n      <td>113.423852</td>\n      <td>0.000000e+00</td>\n    </tr>\n    <tr>\n      <th>17</th>\n      <td>Dominic Thiem</td>\n      <td>Dominic Thiem</td>\n      <td>14.0</td>\n      <td>128.087762</td>\n      <td>0.000000e+00</td>\n    </tr>\n    <tr>\n      <th>18</th>\n      <td>Jack Sock</td>\n      <td>Jack Sock</td>\n      <td>13.0</td>\n      <td>101.373908</td>\n      <td>3.330669e-16</td>\n    </tr>\n    <tr>\n      <th>19</th>\n      <td>Richard Gasquet</td>\n      <td>Richard Gasquet</td>\n      <td>12.0</td>\n      <td>103.605288</td>\n      <td>0.000000e+00</td>\n    </tr>\n    <tr>\n      <th>20</th>\n      <td>John Isner</td>\n      <td>John Isner</td>\n      <td>14.0</td>\n      <td>191.716965</td>\n      <td>0.000000e+00</td>\n    </tr>\n    <tr>\n      <th>21</th>\n      <td>Kevin Anderson</td>\n      <td>Kevin Anderson</td>\n      <td>12.0</td>\n      <td>154.235423</td>\n      <td>0.000000e+00</td>\n    </tr>\n    <tr>\n      <th>22</th>\n      <td>Gilles Muller</td>\n      <td>Gilles Muller</td>\n      <td>11.0</td>\n      <td>112.796268</td>\n      <td>0.000000e+00</td>\n    </tr>\n    <tr>\n      <th>23</th>\n      <td>Philipp Kohlschreiber</td>\n      <td>Philipp Kohlschreiber</td>\n      <td>11.0</td>\n      <td>50.282966</td>\n      <td>2.367553e-07</td>\n    </tr>\n    <tr>\n      <th>24</th>\n      <td>Lucas Pouille</td>\n      <td>Lucas Pouille</td>\n      <td>13.0</td>\n      <td>104.457233</td>\n      <td>1.110223e-16</td>\n    </tr>\n  </tbody>\n</table>\n</div>",
      "text/plain": "                     name                 Player  kmax        chi2  \\\n0           Roger Federer          Roger Federer  14.0  402.812037   \n1          Novak Djokovic         Novak Djokovic  13.0  399.664918   \n2             Andy Murray            Andy Murray  15.0  392.319272   \n3            Rafael Nadal           Rafael Nadal  15.0  265.890069   \n4   Juan Martin Del Potro  Juan Martin Del Potro   9.0   33.825160   \n5           Stan Wawrinka          Stan Wawrinka  12.0  202.685100   \n6         Grigor Dimitrov        Grigor Dimitrov  14.0  147.240056   \n7           Kei Nishikori          Kei Nishikori  10.0  189.474951   \n8            Milos Raonic           Milos Raonic  14.0  272.464996   \n9            David Goffin           David Goffin  14.0   84.340998   \n10       Alexander Zverev       Alexander Zverev   9.0  103.516065   \n11            Marin Cilic            Marin Cilic  12.0  174.415769   \n12          Tomas Berdych          Tomas Berdych  15.0  232.710137   \n13     Jo Wilfried Tsonga     Jo Wilfried Tsonga  11.0  114.464904   \n14           Nick Kyrgios           Nick Kyrgios  12.0  175.035397   \n15  Roberto Bautista Agut  Roberto Bautista Agut  13.0  102.103180   \n16           Gael Monfils           Gael Monfils  14.0  113.423852   \n17          Dominic Thiem          Dominic Thiem  14.0  128.087762   \n18              Jack Sock              Jack Sock  13.0  101.373908   \n19        Richard Gasquet        Richard Gasquet  12.0  103.605288   \n20             John Isner             John Isner  14.0  191.716965   \n21         Kevin Anderson         Kevin Anderson  12.0  154.235423   \n22          Gilles Muller          Gilles Muller  11.0  112.796268   \n23  Philipp Kohlschreiber  Philipp Kohlschreiber  11.0   50.282966   \n24          Lucas Pouille          Lucas Pouille  13.0  104.457233   \n\n           p-val  \n0   0.000000e+00  \n1   0.000000e+00  \n2   0.000000e+00  \n3   0.000000e+00  \n4   4.369930e-05  \n5   0.000000e+00  \n6   0.000000e+00  \n7   0.000000e+00  \n8   0.000000e+00  \n9   1.670886e-12  \n10  0.000000e+00  \n11  0.000000e+00  \n12  0.000000e+00  \n13  0.000000e+00  \n14  0.000000e+00  \n15  2.220446e-16  \n16  0.000000e+00  \n17  0.000000e+00  \n18  3.330669e-16  \n19  0.000000e+00  \n20  0.000000e+00  \n21  0.000000e+00  \n22  0.000000e+00  \n23  2.367553e-07  \n24  1.110223e-16  "
     },
     "execution_count": 8,
     "metadata": {},
     "output_type": "execute_result"
    }
   ],
   "source": [
    "strks_pts.iloc[:25]\n"
   ]
  },
  {
   "cell_type": "code",
   "execution_count": null,
   "metadata": {},
   "outputs": [],
   "source": []
  }
 ],
 "metadata": {
  "kernelspec": {
   "display_name": "Python 3.8.5 64-bit ('Stat143-tcupbjG0': pipenv)",
   "name": "python385jvsc74a57bd03553bbdbca6dcc6a0267c6735dd7b03e30459b2429eb4abfe34f3ad9df95fec9"
  },
  "language_info": {
   "codemirror_mode": {
    "name": "ipython",
    "version": 3
   },
   "file_extension": ".py",
   "mimetype": "text/x-python",
   "name": "python",
   "nbconvert_exporter": "python",
   "pygments_lexer": "ipython3",
   "version": "3.8.5"
  },
  "orig_nbformat": 2
 },
 "nbformat": 4,
 "nbformat_minor": 2
}